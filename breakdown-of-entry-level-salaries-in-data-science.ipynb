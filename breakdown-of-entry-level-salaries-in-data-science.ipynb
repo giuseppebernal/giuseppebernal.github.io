{
 "cells": [
  {
   "cell_type": "markdown",
   "id": "11126376",
   "metadata": {
    "papermill": {
     "duration": 0.01351,
     "end_time": "2022-08-13T07:52:54.273969",
     "exception": false,
     "start_time": "2022-08-13T07:52:54.260459",
     "status": "completed"
    },
    "tags": []
   },
   "source": [
    "# **Introduction**\n",
    "\n",
    "As a budding data analyst working towards a career in data science, one of the more prevalent discussions I noticed were that entry level data analyst positions were often paid incredibly well. While I began working in this field to eventually integrate it with my Biochemistry background, I wasn't sure if these salaries were something I should get excited about or merely a pipedream created by people on the internet. When I saw this dataset I figured it would be an excellent opportunity to explore what the salaries of different data science professionals looked like in my experience bracket as well as what to expect (or strive towards) in the future of my career.\n",
    "\n",
    "# **Questions**\n",
    "\n",
    "* What entry level data jobs pay the highest? The lowest?\n",
    "* Are on-site jobs better paid than remote jobs? Hybrid?\n",
    "* What type of position is more prevalent in the field?\n",
    "* How do these jobs increase in pay as experience level increases?"
   ]
  },
  {
   "cell_type": "markdown",
   "id": "2a1a5aea",
   "metadata": {
    "papermill": {
     "duration": 0.011523,
     "end_time": "2022-08-13T07:52:54.297545",
     "exception": false,
     "start_time": "2022-08-13T07:52:54.286022",
     "status": "completed"
    },
    "tags": []
   },
   "source": [
    "# Data Exploration and Cleaning"
   ]
  },
  {
   "cell_type": "code",
   "execution_count": 1,
   "id": "c3f0a412",
   "metadata": {
    "execution": {
     "iopub.execute_input": "2022-08-13T07:52:54.325397Z",
     "iopub.status.busy": "2022-08-13T07:52:54.324008Z",
     "iopub.status.idle": "2022-08-13T07:52:55.534885Z",
     "shell.execute_reply": "2022-08-13T07:52:55.533540Z"
    },
    "papermill": {
     "duration": 1.227868,
     "end_time": "2022-08-13T07:52:55.537751",
     "exception": false,
     "start_time": "2022-08-13T07:52:54.309883",
     "status": "completed"
    },
    "tags": []
   },
   "outputs": [],
   "source": [
    "## numpy and pandas for data wrangling\n",
    "\n",
    "import numpy as np\n",
    "import pandas as pd\n",
    "\n",
    "## matplotlib and seaborn for data viz\n",
    "import matplotlib.pyplot as plt\n",
    "import seaborn as sns\n",
    "\n",
    "## padasql for SQL queries with pandas\n",
    "import pandasql as pysql\n",
    "\n",
    "## pycountry to deal with ISO 3166 codes in the data\n",
    "import pycountry"
   ]
  },
  {
   "cell_type": "code",
   "execution_count": 2,
   "id": "965497e6",
   "metadata": {
    "execution": {
     "iopub.execute_input": "2022-08-13T07:52:55.564548Z",
     "iopub.status.busy": "2022-08-13T07:52:55.564149Z",
     "iopub.status.idle": "2022-08-13T07:52:55.601558Z",
     "shell.execute_reply": "2022-08-13T07:52:55.600685Z"
    },
    "papermill": {
     "duration": 0.054923,
     "end_time": "2022-08-13T07:52:55.604671",
     "exception": false,
     "start_time": "2022-08-13T07:52:55.549748",
     "status": "completed"
    },
    "tags": []
   },
   "outputs": [
    {
     "name": "stdout",
     "output_type": "stream",
     "text": [
      "   work_year experience_level employment_type                   job_title  \\\n",
      "0       2020               MI              FT              Data Scientist   \n",
      "1       2020               SE              FT  Machine Learning Scientist   \n",
      "2       2020               SE              FT           Big Data Engineer   \n",
      "3       2020               MI              FT        Product Data Analyst   \n",
      "4       2020               SE              FT   Machine Learning Engineer   \n",
      "\n",
      "   salary salary_currency  salary_in_usd employee_residence  remote_ratio  \\\n",
      "0   70000             EUR          79833                 DE             0   \n",
      "1  260000             USD         260000                 JP             0   \n",
      "2   85000             GBP         109024                 GB            50   \n",
      "3   20000             USD          20000                 HN             0   \n",
      "4  150000             USD         150000                 US            50   \n",
      "\n",
      "  company_location company_size  \n",
      "0               DE            L  \n",
      "1               JP            S  \n",
      "2               GB            M  \n",
      "3               HN            S  \n",
      "4               US            L  \n",
      "----------------------------\n",
      "Index(['work_year', 'experience_level', 'employment_type', 'job_title',\n",
      "       'salary', 'salary_currency', 'salary_in_usd', 'employee_residence',\n",
      "       'remote_ratio', 'company_location', 'company_size'],\n",
      "      dtype='object')\n",
      "----------------------------\n",
      "(607, 11)\n"
     ]
    }
   ],
   "source": [
    "## Importing Data Set\n",
    "salaries = pd.read_csv(\"../input/data-science-job-salaries/ds_salaries.csv\", index_col=0)\n",
    "\n",
    "## Confirming df imported, taking note of its column names and shape\n",
    "print(salaries.head(), salaries.columns, salaries.shape, sep = '\\n----------------------------\\n')\n",
    "\n",
    "## Data consists of 607 rows and 11 columns."
   ]
  },
  {
   "cell_type": "code",
   "execution_count": 3,
   "id": "ec9e82e4",
   "metadata": {
    "execution": {
     "iopub.execute_input": "2022-08-13T07:52:55.632281Z",
     "iopub.status.busy": "2022-08-13T07:52:55.631225Z",
     "iopub.status.idle": "2022-08-13T07:52:55.642329Z",
     "shell.execute_reply": "2022-08-13T07:52:55.641479Z"
    },
    "papermill": {
     "duration": 0.026973,
     "end_time": "2022-08-13T07:52:55.644579",
     "exception": false,
     "start_time": "2022-08-13T07:52:55.617606",
     "status": "completed"
    },
    "tags": []
   },
   "outputs": [
    {
     "data": {
      "text/plain": [
       "work_year             0\n",
       "experience_level      0\n",
       "employment_type       0\n",
       "job_title             0\n",
       "salary                0\n",
       "salary_currency       0\n",
       "salary_in_usd         0\n",
       "employee_residence    0\n",
       "remote_ratio          0\n",
       "company_location      0\n",
       "company_size          0\n",
       "dtype: int64"
      ]
     },
     "execution_count": 3,
     "metadata": {},
     "output_type": "execute_result"
    }
   ],
   "source": [
    "## Are there any null values?\n",
    "salaries.isnull().sum()"
   ]
  },
  {
   "cell_type": "code",
   "execution_count": 4,
   "id": "a570e61d",
   "metadata": {
    "execution": {
     "iopub.execute_input": "2022-08-13T07:52:55.671630Z",
     "iopub.status.busy": "2022-08-13T07:52:55.670907Z",
     "iopub.status.idle": "2022-08-13T07:52:55.681448Z",
     "shell.execute_reply": "2022-08-13T07:52:55.680287Z"
    },
    "papermill": {
     "duration": 0.026624,
     "end_time": "2022-08-13T07:52:55.683917",
     "exception": false,
     "start_time": "2022-08-13T07:52:55.657293",
     "status": "completed"
    },
    "tags": []
   },
   "outputs": [
    {
     "data": {
      "text/plain": [
       "work_year               3\n",
       "experience_level        4\n",
       "employment_type         4\n",
       "job_title              50\n",
       "salary                272\n",
       "salary_currency        17\n",
       "salary_in_usd         369\n",
       "employee_residence     57\n",
       "remote_ratio            3\n",
       "company_location       50\n",
       "company_size            3\n",
       "dtype: int64"
      ]
     },
     "execution_count": 4,
     "metadata": {},
     "output_type": "execute_result"
    }
   ],
   "source": [
    "## Unique values?\n",
    "\n",
    "salaries.nunique()"
   ]
  },
  {
   "cell_type": "code",
   "execution_count": 5,
   "id": "7031a177",
   "metadata": {
    "execution": {
     "iopub.execute_input": "2022-08-13T07:52:55.710387Z",
     "iopub.status.busy": "2022-08-13T07:52:55.709734Z",
     "iopub.status.idle": "2022-08-13T07:52:55.720306Z",
     "shell.execute_reply": "2022-08-13T07:52:55.719426Z"
    },
    "papermill": {
     "duration": 0.026771,
     "end_time": "2022-08-13T07:52:55.722827",
     "exception": false,
     "start_time": "2022-08-13T07:52:55.696056",
     "status": "completed"
    },
    "tags": []
   },
   "outputs": [],
   "source": [
    "## Replacing values for remote_ratio and experience_level to improve legibility\n",
    "\n",
    "salaries.remote_ratio.replace([100,50,0], [\"Remote\", \"Hybrid\" ,\"On-Site\"], inplace=True)\n",
    "salaries.experience_level.replace([\"EN\", \"MI\", \"SE\", \"EX\"], [\"Entry\", \"Mid\", \"Senior\", \"Executive\"], inplace=True)"
   ]
  },
  {
   "cell_type": "code",
   "execution_count": 6,
   "id": "1d307033",
   "metadata": {
    "execution": {
     "iopub.execute_input": "2022-08-13T07:52:55.749157Z",
     "iopub.status.busy": "2022-08-13T07:52:55.748228Z",
     "iopub.status.idle": "2022-08-13T07:52:55.772305Z",
     "shell.execute_reply": "2022-08-13T07:52:55.771362Z"
    },
    "papermill": {
     "duration": 0.039963,
     "end_time": "2022-08-13T07:52:55.774828",
     "exception": false,
     "start_time": "2022-08-13T07:52:55.734865",
     "status": "completed"
    },
    "tags": []
   },
   "outputs": [
    {
     "data": {
      "text/html": [
       "<div>\n",
       "<style scoped>\n",
       "    .dataframe tbody tr th:only-of-type {\n",
       "        vertical-align: middle;\n",
       "    }\n",
       "\n",
       "    .dataframe tbody tr th {\n",
       "        vertical-align: top;\n",
       "    }\n",
       "\n",
       "    .dataframe thead th {\n",
       "        text-align: right;\n",
       "    }\n",
       "</style>\n",
       "<table border=\"1\" class=\"dataframe\">\n",
       "  <thead>\n",
       "    <tr style=\"text-align: right;\">\n",
       "      <th></th>\n",
       "      <th>job_title</th>\n",
       "      <th>experience_level</th>\n",
       "      <th>employment_type</th>\n",
       "      <th>salary_in_usd</th>\n",
       "      <th>employee_residence</th>\n",
       "      <th>company_location</th>\n",
       "      <th>remote_ratio</th>\n",
       "    </tr>\n",
       "  </thead>\n",
       "  <tbody>\n",
       "    <tr>\n",
       "      <th>0</th>\n",
       "      <td>Data Scientist</td>\n",
       "      <td>Mid</td>\n",
       "      <td>FT</td>\n",
       "      <td>79833</td>\n",
       "      <td>DE</td>\n",
       "      <td>DE</td>\n",
       "      <td>On-Site</td>\n",
       "    </tr>\n",
       "    <tr>\n",
       "      <th>1</th>\n",
       "      <td>Machine Learning Scientist</td>\n",
       "      <td>Senior</td>\n",
       "      <td>FT</td>\n",
       "      <td>260000</td>\n",
       "      <td>JP</td>\n",
       "      <td>JP</td>\n",
       "      <td>On-Site</td>\n",
       "    </tr>\n",
       "    <tr>\n",
       "      <th>2</th>\n",
       "      <td>Big Data Engineer</td>\n",
       "      <td>Senior</td>\n",
       "      <td>FT</td>\n",
       "      <td>109024</td>\n",
       "      <td>GB</td>\n",
       "      <td>GB</td>\n",
       "      <td>Hybrid</td>\n",
       "    </tr>\n",
       "    <tr>\n",
       "      <th>3</th>\n",
       "      <td>Product Data Analyst</td>\n",
       "      <td>Mid</td>\n",
       "      <td>FT</td>\n",
       "      <td>20000</td>\n",
       "      <td>HN</td>\n",
       "      <td>HN</td>\n",
       "      <td>On-Site</td>\n",
       "    </tr>\n",
       "    <tr>\n",
       "      <th>4</th>\n",
       "      <td>Machine Learning Engineer</td>\n",
       "      <td>Senior</td>\n",
       "      <td>FT</td>\n",
       "      <td>150000</td>\n",
       "      <td>US</td>\n",
       "      <td>US</td>\n",
       "      <td>Hybrid</td>\n",
       "    </tr>\n",
       "    <tr>\n",
       "      <th>...</th>\n",
       "      <td>...</td>\n",
       "      <td>...</td>\n",
       "      <td>...</td>\n",
       "      <td>...</td>\n",
       "      <td>...</td>\n",
       "      <td>...</td>\n",
       "      <td>...</td>\n",
       "    </tr>\n",
       "    <tr>\n",
       "      <th>602</th>\n",
       "      <td>Data Engineer</td>\n",
       "      <td>Senior</td>\n",
       "      <td>FT</td>\n",
       "      <td>154000</td>\n",
       "      <td>US</td>\n",
       "      <td>US</td>\n",
       "      <td>Remote</td>\n",
       "    </tr>\n",
       "    <tr>\n",
       "      <th>603</th>\n",
       "      <td>Data Engineer</td>\n",
       "      <td>Senior</td>\n",
       "      <td>FT</td>\n",
       "      <td>126000</td>\n",
       "      <td>US</td>\n",
       "      <td>US</td>\n",
       "      <td>Remote</td>\n",
       "    </tr>\n",
       "    <tr>\n",
       "      <th>604</th>\n",
       "      <td>Data Analyst</td>\n",
       "      <td>Senior</td>\n",
       "      <td>FT</td>\n",
       "      <td>129000</td>\n",
       "      <td>US</td>\n",
       "      <td>US</td>\n",
       "      <td>On-Site</td>\n",
       "    </tr>\n",
       "    <tr>\n",
       "      <th>605</th>\n",
       "      <td>Data Analyst</td>\n",
       "      <td>Senior</td>\n",
       "      <td>FT</td>\n",
       "      <td>150000</td>\n",
       "      <td>US</td>\n",
       "      <td>US</td>\n",
       "      <td>Remote</td>\n",
       "    </tr>\n",
       "    <tr>\n",
       "      <th>606</th>\n",
       "      <td>AI Scientist</td>\n",
       "      <td>Mid</td>\n",
       "      <td>FT</td>\n",
       "      <td>200000</td>\n",
       "      <td>IN</td>\n",
       "      <td>US</td>\n",
       "      <td>Remote</td>\n",
       "    </tr>\n",
       "  </tbody>\n",
       "</table>\n",
       "<p>607 rows × 7 columns</p>\n",
       "</div>"
      ],
      "text/plain": [
       "                      job_title experience_level employment_type  \\\n",
       "0                Data Scientist              Mid              FT   \n",
       "1    Machine Learning Scientist           Senior              FT   \n",
       "2             Big Data Engineer           Senior              FT   \n",
       "3          Product Data Analyst              Mid              FT   \n",
       "4     Machine Learning Engineer           Senior              FT   \n",
       "..                          ...              ...             ...   \n",
       "602               Data Engineer           Senior              FT   \n",
       "603               Data Engineer           Senior              FT   \n",
       "604                Data Analyst           Senior              FT   \n",
       "605                Data Analyst           Senior              FT   \n",
       "606                AI Scientist              Mid              FT   \n",
       "\n",
       "     salary_in_usd employee_residence company_location remote_ratio  \n",
       "0            79833                 DE               DE      On-Site  \n",
       "1           260000                 JP               JP      On-Site  \n",
       "2           109024                 GB               GB       Hybrid  \n",
       "3            20000                 HN               HN      On-Site  \n",
       "4           150000                 US               US       Hybrid  \n",
       "..             ...                ...              ...          ...  \n",
       "602         154000                 US               US       Remote  \n",
       "603         126000                 US               US       Remote  \n",
       "604         129000                 US               US      On-Site  \n",
       "605         150000                 US               US       Remote  \n",
       "606         200000                 IN               US       Remote  \n",
       "\n",
       "[607 rows x 7 columns]"
      ]
     },
     "execution_count": 6,
     "metadata": {},
     "output_type": "execute_result"
    }
   ],
   "source": [
    "## Filtering the df to display columns of interest\n",
    "salaries_jobs = salaries[[\"job_title\", \"experience_level\", \"employment_type\", \"salary_in_usd\", \"employee_residence\",\"company_location\", \"remote_ratio\"]]\n",
    "\n",
    "salaries_jobs"
   ]
  },
  {
   "cell_type": "code",
   "execution_count": 7,
   "id": "16cbafa3",
   "metadata": {
    "execution": {
     "iopub.execute_input": "2022-08-13T07:52:55.802243Z",
     "iopub.status.busy": "2022-08-13T07:52:55.801255Z",
     "iopub.status.idle": "2022-08-13T07:52:55.826370Z",
     "shell.execute_reply": "2022-08-13T07:52:55.824736Z"
    },
    "papermill": {
     "duration": 0.041424,
     "end_time": "2022-08-13T07:52:55.828888",
     "exception": false,
     "start_time": "2022-08-13T07:52:55.787464",
     "status": "completed"
    },
    "tags": []
   },
   "outputs": [
    {
     "name": "stderr",
     "output_type": "stream",
     "text": [
      "/opt/conda/lib/python3.7/site-packages/ipykernel_launcher.py:7: SettingWithCopyWarning: \n",
      "A value is trying to be set on a copy of a slice from a DataFrame.\n",
      "Try using .loc[row_indexer,col_indexer] = value instead\n",
      "\n",
      "See the caveats in the documentation: https://pandas.pydata.org/pandas-docs/stable/user_guide/indexing.html#returning-a-view-versus-a-copy\n",
      "  import sys\n"
     ]
    },
    {
     "data": {
      "text/html": [
       "<div>\n",
       "<style scoped>\n",
       "    .dataframe tbody tr th:only-of-type {\n",
       "        vertical-align: middle;\n",
       "    }\n",
       "\n",
       "    .dataframe tbody tr th {\n",
       "        vertical-align: top;\n",
       "    }\n",
       "\n",
       "    .dataframe thead th {\n",
       "        text-align: right;\n",
       "    }\n",
       "</style>\n",
       "<table border=\"1\" class=\"dataframe\">\n",
       "  <thead>\n",
       "    <tr style=\"text-align: right;\">\n",
       "      <th></th>\n",
       "      <th>job_title</th>\n",
       "      <th>experience_level</th>\n",
       "      <th>employment_type</th>\n",
       "      <th>salary_in_usd</th>\n",
       "      <th>employee_residence</th>\n",
       "      <th>company_location</th>\n",
       "      <th>remote_ratio</th>\n",
       "    </tr>\n",
       "  </thead>\n",
       "  <tbody>\n",
       "    <tr>\n",
       "      <th>0</th>\n",
       "      <td>Data Scientist</td>\n",
       "      <td>Mid</td>\n",
       "      <td>FT</td>\n",
       "      <td>79833</td>\n",
       "      <td>DE</td>\n",
       "      <td>Germany</td>\n",
       "      <td>On-Site</td>\n",
       "    </tr>\n",
       "    <tr>\n",
       "      <th>1</th>\n",
       "      <td>Machine Learning Scientist</td>\n",
       "      <td>Senior</td>\n",
       "      <td>FT</td>\n",
       "      <td>260000</td>\n",
       "      <td>JP</td>\n",
       "      <td>Japan</td>\n",
       "      <td>On-Site</td>\n",
       "    </tr>\n",
       "    <tr>\n",
       "      <th>2</th>\n",
       "      <td>Big Data Engineer</td>\n",
       "      <td>Senior</td>\n",
       "      <td>FT</td>\n",
       "      <td>109024</td>\n",
       "      <td>GB</td>\n",
       "      <td>United Kingdom</td>\n",
       "      <td>Hybrid</td>\n",
       "    </tr>\n",
       "    <tr>\n",
       "      <th>3</th>\n",
       "      <td>Product Data Analyst</td>\n",
       "      <td>Mid</td>\n",
       "      <td>FT</td>\n",
       "      <td>20000</td>\n",
       "      <td>HN</td>\n",
       "      <td>Honduras</td>\n",
       "      <td>On-Site</td>\n",
       "    </tr>\n",
       "    <tr>\n",
       "      <th>4</th>\n",
       "      <td>Machine Learning Engineer</td>\n",
       "      <td>Senior</td>\n",
       "      <td>FT</td>\n",
       "      <td>150000</td>\n",
       "      <td>US</td>\n",
       "      <td>United States</td>\n",
       "      <td>Hybrid</td>\n",
       "    </tr>\n",
       "  </tbody>\n",
       "</table>\n",
       "</div>"
      ],
      "text/plain": [
       "                    job_title experience_level employment_type  salary_in_usd  \\\n",
       "0              Data Scientist              Mid              FT          79833   \n",
       "1  Machine Learning Scientist           Senior              FT         260000   \n",
       "2           Big Data Engineer           Senior              FT         109024   \n",
       "3        Product Data Analyst              Mid              FT          20000   \n",
       "4   Machine Learning Engineer           Senior              FT         150000   \n",
       "\n",
       "  employee_residence company_location remote_ratio  \n",
       "0                 DE          Germany      On-Site  \n",
       "1                 JP            Japan      On-Site  \n",
       "2                 GB   United Kingdom       Hybrid  \n",
       "3                 HN         Honduras      On-Site  \n",
       "4                 US    United States       Hybrid  "
      ]
     },
     "execution_count": 7,
     "metadata": {},
     "output_type": "execute_result"
    }
   ],
   "source": [
    "## We are going to need to adjust the table to show the full names of the countries for better readability\n",
    "\n",
    "country_list = []\n",
    "for country_code in salaries_jobs.company_location:\n",
    "    country_list.append(pycountry.countries.get(alpha_2=country_code).name)\n",
    "\n",
    "salaries_jobs['company_location'] = country_list\n",
    "\n",
    "salaries_jobs.head()"
   ]
  },
  {
   "cell_type": "code",
   "execution_count": 8,
   "id": "343c014e",
   "metadata": {
    "execution": {
     "iopub.execute_input": "2022-08-13T07:52:55.856219Z",
     "iopub.status.busy": "2022-08-13T07:52:55.855825Z",
     "iopub.status.idle": "2022-08-13T07:52:55.865791Z",
     "shell.execute_reply": "2022-08-13T07:52:55.864567Z"
    },
    "papermill": {
     "duration": 0.026428,
     "end_time": "2022-08-13T07:52:55.868178",
     "exception": false,
     "start_time": "2022-08-13T07:52:55.841750",
     "status": "completed"
    },
    "tags": []
   },
   "outputs": [
    {
     "data": {
      "text/plain": [
       "remote_ratio\n",
       "Hybrid      99\n",
       "On-Site    127\n",
       "Remote     381\n",
       "Name: remote_ratio, dtype: int64"
      ]
     },
     "execution_count": 8,
     "metadata": {},
     "output_type": "execute_result"
    }
   ],
   "source": [
    "## Counting number of entries per remote_ratio classification\n",
    "\n",
    "salaries_jobs.groupby([\"remote_ratio\"])[\"remote_ratio\"].count()"
   ]
  },
  {
   "cell_type": "code",
   "execution_count": 9,
   "id": "96a9360b",
   "metadata": {
    "execution": {
     "iopub.execute_input": "2022-08-13T07:52:55.896347Z",
     "iopub.status.busy": "2022-08-13T07:52:55.895673Z",
     "iopub.status.idle": "2022-08-13T07:52:55.913332Z",
     "shell.execute_reply": "2022-08-13T07:52:55.912396Z"
    },
    "papermill": {
     "duration": 0.03439,
     "end_time": "2022-08-13T07:52:55.915607",
     "exception": false,
     "start_time": "2022-08-13T07:52:55.881217",
     "status": "completed"
    },
    "tags": []
   },
   "outputs": [
    {
     "data": {
      "text/html": [
       "<div>\n",
       "<style scoped>\n",
       "    .dataframe tbody tr th:only-of-type {\n",
       "        vertical-align: middle;\n",
       "    }\n",
       "\n",
       "    .dataframe tbody tr th {\n",
       "        vertical-align: top;\n",
       "    }\n",
       "\n",
       "    .dataframe thead th {\n",
       "        text-align: right;\n",
       "    }\n",
       "</style>\n",
       "<table border=\"1\" class=\"dataframe\">\n",
       "  <thead>\n",
       "    <tr style=\"text-align: right;\">\n",
       "      <th></th>\n",
       "      <th>job_title</th>\n",
       "      <th>experience_level</th>\n",
       "      <th>employment_type</th>\n",
       "      <th>salary_in_usd</th>\n",
       "      <th>employee_residence</th>\n",
       "      <th>company_location</th>\n",
       "      <th>remote_ratio</th>\n",
       "    </tr>\n",
       "  </thead>\n",
       "  <tbody>\n",
       "    <tr>\n",
       "      <th>4</th>\n",
       "      <td>Machine Learning Engineer</td>\n",
       "      <td>Senior</td>\n",
       "      <td>FT</td>\n",
       "      <td>150000</td>\n",
       "      <td>US</td>\n",
       "      <td>United States</td>\n",
       "      <td>Hybrid</td>\n",
       "    </tr>\n",
       "    <tr>\n",
       "      <th>5</th>\n",
       "      <td>Data Analyst</td>\n",
       "      <td>Entry</td>\n",
       "      <td>FT</td>\n",
       "      <td>72000</td>\n",
       "      <td>US</td>\n",
       "      <td>United States</td>\n",
       "      <td>Remote</td>\n",
       "    </tr>\n",
       "    <tr>\n",
       "      <th>6</th>\n",
       "      <td>Lead Data Scientist</td>\n",
       "      <td>Senior</td>\n",
       "      <td>FT</td>\n",
       "      <td>190000</td>\n",
       "      <td>US</td>\n",
       "      <td>United States</td>\n",
       "      <td>Remote</td>\n",
       "    </tr>\n",
       "    <tr>\n",
       "      <th>8</th>\n",
       "      <td>Business Data Analyst</td>\n",
       "      <td>Mid</td>\n",
       "      <td>FT</td>\n",
       "      <td>135000</td>\n",
       "      <td>US</td>\n",
       "      <td>United States</td>\n",
       "      <td>Remote</td>\n",
       "    </tr>\n",
       "    <tr>\n",
       "      <th>13</th>\n",
       "      <td>Lead Data Analyst</td>\n",
       "      <td>Mid</td>\n",
       "      <td>FT</td>\n",
       "      <td>87000</td>\n",
       "      <td>US</td>\n",
       "      <td>United States</td>\n",
       "      <td>Remote</td>\n",
       "    </tr>\n",
       "    <tr>\n",
       "      <th>...</th>\n",
       "      <td>...</td>\n",
       "      <td>...</td>\n",
       "      <td>...</td>\n",
       "      <td>...</td>\n",
       "      <td>...</td>\n",
       "      <td>...</td>\n",
       "      <td>...</td>\n",
       "    </tr>\n",
       "    <tr>\n",
       "      <th>602</th>\n",
       "      <td>Data Engineer</td>\n",
       "      <td>Senior</td>\n",
       "      <td>FT</td>\n",
       "      <td>154000</td>\n",
       "      <td>US</td>\n",
       "      <td>United States</td>\n",
       "      <td>Remote</td>\n",
       "    </tr>\n",
       "    <tr>\n",
       "      <th>603</th>\n",
       "      <td>Data Engineer</td>\n",
       "      <td>Senior</td>\n",
       "      <td>FT</td>\n",
       "      <td>126000</td>\n",
       "      <td>US</td>\n",
       "      <td>United States</td>\n",
       "      <td>Remote</td>\n",
       "    </tr>\n",
       "    <tr>\n",
       "      <th>604</th>\n",
       "      <td>Data Analyst</td>\n",
       "      <td>Senior</td>\n",
       "      <td>FT</td>\n",
       "      <td>129000</td>\n",
       "      <td>US</td>\n",
       "      <td>United States</td>\n",
       "      <td>On-Site</td>\n",
       "    </tr>\n",
       "    <tr>\n",
       "      <th>605</th>\n",
       "      <td>Data Analyst</td>\n",
       "      <td>Senior</td>\n",
       "      <td>FT</td>\n",
       "      <td>150000</td>\n",
       "      <td>US</td>\n",
       "      <td>United States</td>\n",
       "      <td>Remote</td>\n",
       "    </tr>\n",
       "    <tr>\n",
       "      <th>606</th>\n",
       "      <td>AI Scientist</td>\n",
       "      <td>Mid</td>\n",
       "      <td>FT</td>\n",
       "      <td>200000</td>\n",
       "      <td>IN</td>\n",
       "      <td>United States</td>\n",
       "      <td>Remote</td>\n",
       "    </tr>\n",
       "  </tbody>\n",
       "</table>\n",
       "<p>346 rows × 7 columns</p>\n",
       "</div>"
      ],
      "text/plain": [
       "                     job_title experience_level employment_type  \\\n",
       "4    Machine Learning Engineer           Senior              FT   \n",
       "5                 Data Analyst            Entry              FT   \n",
       "6          Lead Data Scientist           Senior              FT   \n",
       "8        Business Data Analyst              Mid              FT   \n",
       "13           Lead Data Analyst              Mid              FT   \n",
       "..                         ...              ...             ...   \n",
       "602              Data Engineer           Senior              FT   \n",
       "603              Data Engineer           Senior              FT   \n",
       "604               Data Analyst           Senior              FT   \n",
       "605               Data Analyst           Senior              FT   \n",
       "606               AI Scientist              Mid              FT   \n",
       "\n",
       "     salary_in_usd employee_residence company_location remote_ratio  \n",
       "4           150000                 US    United States       Hybrid  \n",
       "5            72000                 US    United States       Remote  \n",
       "6           190000                 US    United States       Remote  \n",
       "8           135000                 US    United States       Remote  \n",
       "13           87000                 US    United States       Remote  \n",
       "..             ...                ...              ...          ...  \n",
       "602         154000                 US    United States       Remote  \n",
       "603         126000                 US    United States       Remote  \n",
       "604         129000                 US    United States      On-Site  \n",
       "605         150000                 US    United States       Remote  \n",
       "606         200000                 IN    United States       Remote  \n",
       "\n",
       "[346 rows x 7 columns]"
      ]
     },
     "execution_count": 9,
     "metadata": {},
     "output_type": "execute_result"
    }
   ],
   "source": [
    "## Filtering data for Full time (FT) US companies\n",
    "\n",
    "salaries_US = salaries_jobs[(salaries_jobs[\"company_location\"]==\"United States\") & (salaries_jobs[\"employment_type\"]==\"FT\")]\n",
    "\n",
    "salaries_US"
   ]
  },
  {
   "cell_type": "code",
   "execution_count": 10,
   "id": "8dec8249",
   "metadata": {
    "execution": {
     "iopub.execute_input": "2022-08-13T07:52:55.944607Z",
     "iopub.status.busy": "2022-08-13T07:52:55.943890Z",
     "iopub.status.idle": "2022-08-13T07:52:55.952495Z",
     "shell.execute_reply": "2022-08-13T07:52:55.951275Z"
    },
    "papermill": {
     "duration": 0.02598,
     "end_time": "2022-08-13T07:52:55.954992",
     "exception": false,
     "start_time": "2022-08-13T07:52:55.929012",
     "status": "completed"
    },
    "tags": []
   },
   "outputs": [
    {
     "data": {
      "text/plain": [
       "remote_ratio\n",
       "Hybrid      20\n",
       "On-Site     68\n",
       "Remote     258\n",
       "Name: remote_ratio, dtype: int64"
      ]
     },
     "execution_count": 10,
     "metadata": {},
     "output_type": "execute_result"
    }
   ],
   "source": [
    "## Once more counting number of entries per remote_ratio classification for the US\n",
    "\n",
    "salaries_US.groupby([\"remote_ratio\"])[\"remote_ratio\"].count()"
   ]
  },
  {
   "cell_type": "markdown",
   "id": "0255941e",
   "metadata": {
    "papermill": {
     "duration": 0.013178,
     "end_time": "2022-08-13T07:52:55.981529",
     "exception": false,
     "start_time": "2022-08-13T07:52:55.968351",
     "status": "completed"
    },
    "tags": []
   },
   "source": [
    "The data frame contains 607 entries of varying data science salaries in the world and 346 entries located within the United States.\n",
    "\n",
    "While 607 entries is far from being enough data to have an all conclusive answer to any of my questions but it will certainly help generate an idea of what Data Science salaries are like."
   ]
  },
  {
   "cell_type": "markdown",
   "id": "23fbb51d",
   "metadata": {
    "papermill": {
     "duration": 0.013631,
     "end_time": "2022-08-13T07:52:56.008934",
     "exception": false,
     "start_time": "2022-08-13T07:52:55.995303",
     "status": "completed"
    },
    "tags": []
   },
   "source": [
    "# What entry level data jobs pay the highest? The lowest?\n"
   ]
  },
  {
   "cell_type": "code",
   "execution_count": 11,
   "id": "53da28c0",
   "metadata": {
    "execution": {
     "iopub.execute_input": "2022-08-13T07:52:56.037817Z",
     "iopub.status.busy": "2022-08-13T07:52:56.037347Z",
     "iopub.status.idle": "2022-08-13T07:52:56.053009Z",
     "shell.execute_reply": "2022-08-13T07:52:56.051696Z"
    },
    "papermill": {
     "duration": 0.033565,
     "end_time": "2022-08-13T07:52:56.055948",
     "exception": false,
     "start_time": "2022-08-13T07:52:56.022383",
     "status": "completed"
    },
    "tags": []
   },
   "outputs": [
    {
     "data": {
      "text/html": [
       "<div>\n",
       "<style scoped>\n",
       "    .dataframe tbody tr th:only-of-type {\n",
       "        vertical-align: middle;\n",
       "    }\n",
       "\n",
       "    .dataframe tbody tr th {\n",
       "        vertical-align: top;\n",
       "    }\n",
       "\n",
       "    .dataframe thead th {\n",
       "        text-align: right;\n",
       "    }\n",
       "</style>\n",
       "<table border=\"1\" class=\"dataframe\">\n",
       "  <thead>\n",
       "    <tr style=\"text-align: right;\">\n",
       "      <th></th>\n",
       "      <th>job_title</th>\n",
       "      <th>experience_level</th>\n",
       "      <th>employment_type</th>\n",
       "      <th>salary_in_usd</th>\n",
       "      <th>employee_residence</th>\n",
       "      <th>company_location</th>\n",
       "      <th>remote_ratio</th>\n",
       "    </tr>\n",
       "  </thead>\n",
       "  <tbody>\n",
       "    <tr>\n",
       "      <th>37</th>\n",
       "      <td>Machine Learning Engineer</td>\n",
       "      <td>Entry</td>\n",
       "      <td>FT</td>\n",
       "      <td>250000</td>\n",
       "      <td>US</td>\n",
       "      <td>United States</td>\n",
       "      <td>Hybrid</td>\n",
       "    </tr>\n",
       "    <tr>\n",
       "      <th>115</th>\n",
       "      <td>Machine Learning Scientist</td>\n",
       "      <td>Entry</td>\n",
       "      <td>FT</td>\n",
       "      <td>225000</td>\n",
       "      <td>US</td>\n",
       "      <td>United States</td>\n",
       "      <td>Remote</td>\n",
       "    </tr>\n",
       "    <tr>\n",
       "      <th>39</th>\n",
       "      <td>Machine Learning Engineer</td>\n",
       "      <td>Entry</td>\n",
       "      <td>FT</td>\n",
       "      <td>138000</td>\n",
       "      <td>US</td>\n",
       "      <td>United States</td>\n",
       "      <td>Remote</td>\n",
       "    </tr>\n",
       "    <tr>\n",
       "      <th>159</th>\n",
       "      <td>Machine Learning Engineer</td>\n",
       "      <td>Entry</td>\n",
       "      <td>FT</td>\n",
       "      <td>125000</td>\n",
       "      <td>US</td>\n",
       "      <td>United States</td>\n",
       "      <td>Remote</td>\n",
       "    </tr>\n",
       "    <tr>\n",
       "      <th>454</th>\n",
       "      <td>Computer Vision Engineer</td>\n",
       "      <td>Entry</td>\n",
       "      <td>FT</td>\n",
       "      <td>125000</td>\n",
       "      <td>US</td>\n",
       "      <td>United States</td>\n",
       "      <td>On-Site</td>\n",
       "    </tr>\n",
       "  </tbody>\n",
       "</table>\n",
       "</div>"
      ],
      "text/plain": [
       "                      job_title experience_level employment_type  \\\n",
       "37    Machine Learning Engineer            Entry              FT   \n",
       "115  Machine Learning Scientist            Entry              FT   \n",
       "39    Machine Learning Engineer            Entry              FT   \n",
       "159   Machine Learning Engineer            Entry              FT   \n",
       "454    Computer Vision Engineer            Entry              FT   \n",
       "\n",
       "     salary_in_usd employee_residence company_location remote_ratio  \n",
       "37          250000                 US    United States       Hybrid  \n",
       "115         225000                 US    United States       Remote  \n",
       "39          138000                 US    United States       Remote  \n",
       "159         125000                 US    United States       Remote  \n",
       "454         125000                 US    United States      On-Site  "
      ]
     },
     "execution_count": 11,
     "metadata": {},
     "output_type": "execute_result"
    }
   ],
   "source": [
    "## Filtering experience level for EN for Entry-level and sorting salary from high to low:\n",
    "\n",
    "salaries_EN = salaries_US[(salaries_US[\"experience_level\"]==\"Entry\")].sort_values(\"salary_in_usd\", ascending=False)\n",
    "\n",
    "salaries_EN.head()"
   ]
  },
  {
   "cell_type": "code",
   "execution_count": 12,
   "id": "5dca0bb8",
   "metadata": {
    "execution": {
     "iopub.execute_input": "2022-08-13T07:52:56.085597Z",
     "iopub.status.busy": "2022-08-13T07:52:56.085210Z",
     "iopub.status.idle": "2022-08-13T07:52:56.091658Z",
     "shell.execute_reply": "2022-08-13T07:52:56.090867Z"
    },
    "papermill": {
     "duration": 0.024008,
     "end_time": "2022-08-13T07:52:56.093863",
     "exception": false,
     "start_time": "2022-08-13T07:52:56.069855",
     "status": "completed"
    },
    "tags": []
   },
   "outputs": [
    {
     "data": {
      "text/plain": [
       "(28, 7)"
      ]
     },
     "execution_count": 12,
     "metadata": {},
     "output_type": "execute_result"
    }
   ],
   "source": [
    "salaries_EN.shape"
   ]
  },
  {
   "cell_type": "markdown",
   "id": "54bffb08",
   "metadata": {
    "papermill": {
     "duration": 0.013764,
     "end_time": "2022-08-13T07:52:56.121519",
     "exception": false,
     "start_time": "2022-08-13T07:52:56.107755",
     "status": "completed"
    },
    "tags": []
   },
   "source": [
    "I could just take a look at the complete table and see that a Machine Learning (ML) Engineer and a Data Analyst are the most and least paid EL positions respectively on the dataframe, but I recently learned how to use SQL with Python so humor me for 2 quick lines of code :)"
   ]
  },
  {
   "cell_type": "code",
   "execution_count": 13,
   "id": "e1da3d7f",
   "metadata": {
    "execution": {
     "iopub.execute_input": "2022-08-13T07:52:56.151596Z",
     "iopub.status.busy": "2022-08-13T07:52:56.151196Z",
     "iopub.status.idle": "2022-08-13T07:52:56.309335Z",
     "shell.execute_reply": "2022-08-13T07:52:56.308108Z"
    },
    "papermill": {
     "duration": 0.176201,
     "end_time": "2022-08-13T07:52:56.311950",
     "exception": false,
     "start_time": "2022-08-13T07:52:56.135749",
     "status": "completed"
    },
    "tags": []
   },
   "outputs": [
    {
     "data": {
      "text/html": [
       "<div>\n",
       "<style scoped>\n",
       "    .dataframe tbody tr th:only-of-type {\n",
       "        vertical-align: middle;\n",
       "    }\n",
       "\n",
       "    .dataframe tbody tr th {\n",
       "        vertical-align: top;\n",
       "    }\n",
       "\n",
       "    .dataframe thead th {\n",
       "        text-align: right;\n",
       "    }\n",
       "</style>\n",
       "<table border=\"1\" class=\"dataframe\">\n",
       "  <thead>\n",
       "    <tr style=\"text-align: right;\">\n",
       "      <th></th>\n",
       "      <th>job_title</th>\n",
       "      <th>experience_level</th>\n",
       "      <th>employment_type</th>\n",
       "      <th>salary_in_usd</th>\n",
       "      <th>company_location</th>\n",
       "      <th>remote_ratio</th>\n",
       "    </tr>\n",
       "  </thead>\n",
       "  <tbody>\n",
       "    <tr>\n",
       "      <th>0</th>\n",
       "      <td>Machine Learning Engineer</td>\n",
       "      <td>Entry</td>\n",
       "      <td>FT</td>\n",
       "      <td>250000</td>\n",
       "      <td>United States</td>\n",
       "      <td>Hybrid</td>\n",
       "    </tr>\n",
       "  </tbody>\n",
       "</table>\n",
       "</div>"
      ],
      "text/plain": [
       "                   job_title experience_level employment_type  salary_in_usd  \\\n",
       "0  Machine Learning Engineer            Entry              FT         250000   \n",
       "\n",
       "  company_location remote_ratio  \n",
       "0    United States       Hybrid  "
      ]
     },
     "execution_count": 13,
     "metadata": {},
     "output_type": "execute_result"
    }
   ],
   "source": [
    "# Quick SQL query to pull the complete row for most paid entry level position\n",
    "salaries_EN_max = pysql.sqldf(\"SELECT job_title, experience_level, employment_type, MAX(salary_in_usd) AS 'salary_in_usd', company_location, remote_ratio FROM salaries_EN;\")\n",
    "\n",
    "salaries_EN_max"
   ]
  },
  {
   "cell_type": "code",
   "execution_count": 14,
   "id": "b179d932",
   "metadata": {
    "execution": {
     "iopub.execute_input": "2022-08-13T07:52:56.341947Z",
     "iopub.status.busy": "2022-08-13T07:52:56.341520Z",
     "iopub.status.idle": "2022-08-13T07:52:56.383146Z",
     "shell.execute_reply": "2022-08-13T07:52:56.381868Z"
    },
    "papermill": {
     "duration": 0.059419,
     "end_time": "2022-08-13T07:52:56.385811",
     "exception": false,
     "start_time": "2022-08-13T07:52:56.326392",
     "status": "completed"
    },
    "tags": []
   },
   "outputs": [
    {
     "data": {
      "text/html": [
       "<div>\n",
       "<style scoped>\n",
       "    .dataframe tbody tr th:only-of-type {\n",
       "        vertical-align: middle;\n",
       "    }\n",
       "\n",
       "    .dataframe tbody tr th {\n",
       "        vertical-align: top;\n",
       "    }\n",
       "\n",
       "    .dataframe thead th {\n",
       "        text-align: right;\n",
       "    }\n",
       "</style>\n",
       "<table border=\"1\" class=\"dataframe\">\n",
       "  <thead>\n",
       "    <tr style=\"text-align: right;\">\n",
       "      <th></th>\n",
       "      <th>job_title</th>\n",
       "      <th>experience_level</th>\n",
       "      <th>employment_type</th>\n",
       "      <th>salary_in_usd</th>\n",
       "      <th>company_location</th>\n",
       "      <th>remote_ratio</th>\n",
       "    </tr>\n",
       "  </thead>\n",
       "  <tbody>\n",
       "    <tr>\n",
       "      <th>0</th>\n",
       "      <td>Data Analyst</td>\n",
       "      <td>Entry</td>\n",
       "      <td>FT</td>\n",
       "      <td>50000</td>\n",
       "      <td>United States</td>\n",
       "      <td>Remote</td>\n",
       "    </tr>\n",
       "  </tbody>\n",
       "</table>\n",
       "</div>"
      ],
      "text/plain": [
       "      job_title experience_level employment_type  salary_in_usd  \\\n",
       "0  Data Analyst            Entry              FT          50000   \n",
       "\n",
       "  company_location remote_ratio  \n",
       "0    United States       Remote  "
      ]
     },
     "execution_count": 14,
     "metadata": {},
     "output_type": "execute_result"
    }
   ],
   "source": [
    "# And another query to pull the lowest paid entry level full time position\n",
    "salaries_EN_min = pysql.sqldf(\"SELECT job_title, experience_level, employment_type, MIN(salary_in_usd) AS 'salary_in_usd', company_location, remote_ratio FROM salaries_EN WHERE employment_type = 'FT';\")\n",
    "\n",
    "salaries_EN_min"
   ]
  },
  {
   "cell_type": "markdown",
   "id": "dc959ca9",
   "metadata": {
    "papermill": {
     "duration": 0.013793,
     "end_time": "2022-08-13T07:52:56.413912",
     "exception": false,
     "start_time": "2022-08-13T07:52:56.400119",
     "status": "completed"
    },
    "tags": []
   },
   "source": [
    "Oh cool! So happy I found a solution that works with SQL.\n",
    "\n",
    "So it looks like from 607 rows, 31 entries relate to entry level positions in the US. \n",
    "\n",
    "* The highest paying position comes from an FT Machine Learning Engineer with a yearly salary of \\\\$250,000.00.\n",
    "\n",
    "* The lowest paying position comes from an FT Data Analyst with a yearly salary of \\\\$50,000.00.\n",
    "\n",
    "However, the data has multiple entries with same position with varying salaries so let's take a look at what the average salary of each position is like from this dataframe before making any conclusions."
   ]
  },
  {
   "cell_type": "code",
   "execution_count": 15,
   "id": "89cc50e6",
   "metadata": {
    "execution": {
     "iopub.execute_input": "2022-08-13T07:52:56.444181Z",
     "iopub.status.busy": "2022-08-13T07:52:56.443788Z",
     "iopub.status.idle": "2022-08-13T07:52:56.461887Z",
     "shell.execute_reply": "2022-08-13T07:52:56.460660Z"
    },
    "papermill": {
     "duration": 0.036499,
     "end_time": "2022-08-13T07:52:56.464597",
     "exception": false,
     "start_time": "2022-08-13T07:52:56.428098",
     "status": "completed"
    },
    "tags": []
   },
   "outputs": [
    {
     "data": {
      "text/html": [
       "<div>\n",
       "<style scoped>\n",
       "    .dataframe tbody tr th:only-of-type {\n",
       "        vertical-align: middle;\n",
       "    }\n",
       "\n",
       "    .dataframe tbody tr th {\n",
       "        vertical-align: top;\n",
       "    }\n",
       "\n",
       "    .dataframe thead th {\n",
       "        text-align: right;\n",
       "    }\n",
       "</style>\n",
       "<table border=\"1\" class=\"dataframe\">\n",
       "  <thead>\n",
       "    <tr style=\"text-align: right;\">\n",
       "      <th></th>\n",
       "      <th>salary_in_usd</th>\n",
       "    </tr>\n",
       "    <tr>\n",
       "      <th>job_title</th>\n",
       "      <th></th>\n",
       "    </tr>\n",
       "  </thead>\n",
       "  <tbody>\n",
       "    <tr>\n",
       "      <th>Machine Learning Scientist</th>\n",
       "      <td>225000.00</td>\n",
       "    </tr>\n",
       "    <tr>\n",
       "      <th>Machine Learning Engineer</th>\n",
       "      <td>148500.00</td>\n",
       "    </tr>\n",
       "    <tr>\n",
       "      <th>Computer Vision Engineer</th>\n",
       "      <td>125000.00</td>\n",
       "    </tr>\n",
       "    <tr>\n",
       "      <th>Research Scientist</th>\n",
       "      <td>120000.00</td>\n",
       "    </tr>\n",
       "    <tr>\n",
       "      <th>Financial Data Analyst</th>\n",
       "      <td>100000.00</td>\n",
       "    </tr>\n",
       "    <tr>\n",
       "      <th>Data Science Consultant</th>\n",
       "      <td>90000.00</td>\n",
       "    </tr>\n",
       "    <tr>\n",
       "      <th>Data Scientist</th>\n",
       "      <td>88833.33</td>\n",
       "    </tr>\n",
       "    <tr>\n",
       "      <th>Data Engineer</th>\n",
       "      <td>84375.00</td>\n",
       "    </tr>\n",
       "    <tr>\n",
       "      <th>Data Analyst</th>\n",
       "      <td>73833.33</td>\n",
       "    </tr>\n",
       "    <tr>\n",
       "      <th>Big Data Engineer</th>\n",
       "      <td>70000.00</td>\n",
       "    </tr>\n",
       "    <tr>\n",
       "      <th>Computer Vision Software Engineer</th>\n",
       "      <td>70000.00</td>\n",
       "    </tr>\n",
       "    <tr>\n",
       "      <th>BI Data Analyst</th>\n",
       "      <td>55000.00</td>\n",
       "    </tr>\n",
       "  </tbody>\n",
       "</table>\n",
       "</div>"
      ],
      "text/plain": [
       "                                   salary_in_usd\n",
       "job_title                                       \n",
       "Machine Learning Scientist             225000.00\n",
       "Machine Learning Engineer              148500.00\n",
       "Computer Vision Engineer               125000.00\n",
       "Research Scientist                     120000.00\n",
       "Financial Data Analyst                 100000.00\n",
       "Data Science Consultant                 90000.00\n",
       "Data Scientist                          88833.33\n",
       "Data Engineer                           84375.00\n",
       "Data Analyst                            73833.33\n",
       "Big Data Engineer                       70000.00\n",
       "Computer Vision Software Engineer       70000.00\n",
       "BI Data Analyst                         55000.00"
      ]
     },
     "execution_count": 15,
     "metadata": {},
     "output_type": "execute_result"
    }
   ],
   "source": [
    "salaries_US_mean = round(salaries_EN.groupby(salaries_EN[\"job_title\"]).mean().sort_values(\"salary_in_usd\", ascending=False), 2)\n",
    "\n",
    "salaries_US_mean"
   ]
  },
  {
   "cell_type": "code",
   "execution_count": 16,
   "id": "6cc7b76a",
   "metadata": {
    "execution": {
     "iopub.execute_input": "2022-08-13T07:52:56.495479Z",
     "iopub.status.busy": "2022-08-13T07:52:56.495078Z",
     "iopub.status.idle": "2022-08-13T07:52:56.735667Z",
     "shell.execute_reply": "2022-08-13T07:52:56.734152Z"
    },
    "papermill": {
     "duration": 0.259097,
     "end_time": "2022-08-13T07:52:56.738215",
     "exception": false,
     "start_time": "2022-08-13T07:52:56.479118",
     "status": "completed"
    },
    "tags": []
   },
   "outputs": [
    {
     "name": "stderr",
     "output_type": "stream",
     "text": [
      "/opt/conda/lib/python3.7/site-packages/ipykernel_launcher.py:8: UserWarning: FixedFormatter should only be used together with FixedLocator\n",
      "  \n"
     ]
    },
    {
     "data": {
      "image/png": "[encoded data removed]",
      "text/plain": [
       "<Figure size 720x432 with 1 Axes>"
      ]
     },
     "metadata": {
      "needs_background": "light"
     },
     "output_type": "display_data"
    }
   ],
   "source": [
    "#This time lets draw up a bar graph to have a visual comparison of the average salaries for each position\n",
    "\n",
    "fig, ax = plt.subplots()\n",
    "fig.set_size_inches([10, 6])\n",
    "\n",
    "ax.bar(salaries_US_mean.index, salaries_US_mean[\"salary_in_usd\"])\n",
    "ax.set_ylabel(\" Yearly Salary (USD)\")\n",
    "ax.set_xticklabels(salaries_US_mean.index, rotation=90)\n",
    "\n",
    "plt.show()"
   ]
  },
  {
   "cell_type": "markdown",
   "id": "2fe14740",
   "metadata": {
    "papermill": {
     "duration": 0.014737,
     "end_time": "2022-08-13T07:52:56.768140",
     "exception": false,
     "start_time": "2022-08-13T07:52:56.753403",
     "status": "completed"
    },
    "tags": []
   },
   "source": [
    "The bar graph makes it pretty evident what position has the largest average salary from the data frame. Looks like ML Scientists have the largest entry level salaries, while BI Data Analysts average the lowest. \n",
    "\n",
    "Seems like the ML Engineer position I singled out earlier is more of an outlier as the average ML Engineer position earns \\\\$148,000.00, a whopping \\\\$102,000.00 more than the average.\n",
    "\n",
    "Meanwhile Data Analysts can rejoice as they are not the lowest paid positions in Data Science on average (Yay me! That's my desired starting position). The lowest paid position on average is the BI Data Analyst with about \\\\$15,000.00 less than the next lowest position."
   ]
  },
  {
   "cell_type": "markdown",
   "id": "c72ee10b",
   "metadata": {
    "papermill": {
     "duration": 0.014387,
     "end_time": "2022-08-13T07:52:56.797359",
     "exception": false,
     "start_time": "2022-08-13T07:52:56.782972",
     "status": "completed"
    },
    "tags": []
   },
   "source": [
    "# Are on-site jobs better paid than remote jobs?"
   ]
  },
  {
   "cell_type": "code",
   "execution_count": 17,
   "id": "d199b078",
   "metadata": {
    "execution": {
     "iopub.execute_input": "2022-08-13T07:52:56.828675Z",
     "iopub.status.busy": "2022-08-13T07:52:56.827950Z",
     "iopub.status.idle": "2022-08-13T07:52:56.975589Z",
     "shell.execute_reply": "2022-08-13T07:52:56.974728Z"
    },
    "papermill": {
     "duration": 0.16645,
     "end_time": "2022-08-13T07:52:56.978526",
     "exception": false,
     "start_time": "2022-08-13T07:52:56.812076",
     "status": "completed"
    },
    "tags": []
   },
   "outputs": [
    {
     "data": {
      "image/png": "[encoded data removed]",
      "text/plain": [
       "<Figure size 720x432 with 1 Axes>"
      ]
     },
     "metadata": {
      "needs_background": "light"
     },
     "output_type": "display_data"
    }
   ],
   "source": [
    "## Count of Entry Level US remote jobs\n",
    "\n",
    "EN_remote_count = salaries_EN.groupby([\"remote_ratio\"])[\"remote_ratio\"].count().sort_values()\n",
    "\n",
    "## Bar graph visualizing number of jobs per remote_ratio in Entry Level US positions\n",
    "\n",
    "fig, ax = plt.subplots()\n",
    "fig.set_size_inches([10, 6])\n",
    "\n",
    "bar1 = ax.bar(EN_remote_count.index, EN_remote_count)\n",
    "\n",
    "ax.set_xlabel(\"remote_ratio\")\n",
    "ax.set_ylabel(\"count\")\n",
    "ax.bar_label(bar1)\n",
    "\n",
    "plt.show()"
   ]
  },
  {
   "cell_type": "code",
   "execution_count": 18,
   "id": "aa968ea0",
   "metadata": {
    "execution": {
     "iopub.execute_input": "2022-08-13T07:52:57.011596Z",
     "iopub.status.busy": "2022-08-13T07:52:57.010488Z",
     "iopub.status.idle": "2022-08-13T07:52:57.025817Z",
     "shell.execute_reply": "2022-08-13T07:52:57.024443Z"
    },
    "papermill": {
     "duration": 0.034622,
     "end_time": "2022-08-13T07:52:57.028547",
     "exception": false,
     "start_time": "2022-08-13T07:52:56.993925",
     "status": "completed"
    },
    "tags": []
   },
   "outputs": [
    {
     "data": {
      "text/html": [
       "<div>\n",
       "<style scoped>\n",
       "    .dataframe tbody tr th:only-of-type {\n",
       "        vertical-align: middle;\n",
       "    }\n",
       "\n",
       "    .dataframe tbody tr th {\n",
       "        vertical-align: top;\n",
       "    }\n",
       "\n",
       "    .dataframe thead th {\n",
       "        text-align: right;\n",
       "    }\n",
       "</style>\n",
       "<table border=\"1\" class=\"dataframe\">\n",
       "  <thead>\n",
       "    <tr style=\"text-align: right;\">\n",
       "      <th></th>\n",
       "      <th>salary_in_usd</th>\n",
       "    </tr>\n",
       "    <tr>\n",
       "      <th>remote_ratio</th>\n",
       "      <th></th>\n",
       "    </tr>\n",
       "  </thead>\n",
       "  <tbody>\n",
       "    <tr>\n",
       "      <th>On-Site</th>\n",
       "      <td>112500.00</td>\n",
       "    </tr>\n",
       "    <tr>\n",
       "      <th>Hybrid</th>\n",
       "      <td>108800.00</td>\n",
       "    </tr>\n",
       "    <tr>\n",
       "      <th>Remote</th>\n",
       "      <td>94928.57</td>\n",
       "    </tr>\n",
       "  </tbody>\n",
       "</table>\n",
       "</div>"
      ],
      "text/plain": [
       "              salary_in_usd\n",
       "remote_ratio               \n",
       "On-Site           112500.00\n",
       "Hybrid            108800.00\n",
       "Remote             94928.57"
      ]
     },
     "execution_count": 18,
     "metadata": {},
     "output_type": "execute_result"
    }
   ],
   "source": [
    "## Average salary for each remote_ratio in Entry Level US positions\n",
    "\n",
    "round(salaries_EN.groupby(salaries_EN[\"remote_ratio\"]).mean().sort_values(\"salary_in_usd\", ascending=False), 2)"
   ]
  },
  {
   "cell_type": "markdown",
   "id": "ba404e9e",
   "metadata": {
    "papermill": {
     "duration": 0.014862,
     "end_time": "2022-08-13T07:52:57.058655",
     "exception": false,
     "start_time": "2022-08-13T07:52:57.043793",
     "status": "completed"
    },
    "tags": []
   },
   "source": [
    "The number of On-Site and Hybrid positions is a bit far too low to effectively compare it with the amount of Remote positions in the US so I'm going to increase the scope of this search to include other countries. "
   ]
  },
  {
   "cell_type": "code",
   "execution_count": 19,
   "id": "d0b217ea",
   "metadata": {
    "execution": {
     "iopub.execute_input": "2022-08-13T07:52:57.091089Z",
     "iopub.status.busy": "2022-08-13T07:52:57.090674Z",
     "iopub.status.idle": "2022-08-13T07:52:57.107116Z",
     "shell.execute_reply": "2022-08-13T07:52:57.105978Z"
    },
    "papermill": {
     "duration": 0.035574,
     "end_time": "2022-08-13T07:52:57.109517",
     "exception": false,
     "start_time": "2022-08-13T07:52:57.073943",
     "status": "completed"
    },
    "tags": []
   },
   "outputs": [
    {
     "data": {
      "text/html": [
       "<div>\n",
       "<style scoped>\n",
       "    .dataframe tbody tr th:only-of-type {\n",
       "        vertical-align: middle;\n",
       "    }\n",
       "\n",
       "    .dataframe tbody tr th {\n",
       "        vertical-align: top;\n",
       "    }\n",
       "\n",
       "    .dataframe thead th {\n",
       "        text-align: right;\n",
       "    }\n",
       "</style>\n",
       "<table border=\"1\" class=\"dataframe\">\n",
       "  <thead>\n",
       "    <tr style=\"text-align: right;\">\n",
       "      <th></th>\n",
       "      <th>job_title</th>\n",
       "      <th>experience_level</th>\n",
       "      <th>employment_type</th>\n",
       "      <th>salary_in_usd</th>\n",
       "      <th>employee_residence</th>\n",
       "      <th>company_location</th>\n",
       "      <th>remote_ratio</th>\n",
       "    </tr>\n",
       "  </thead>\n",
       "  <tbody>\n",
       "    <tr>\n",
       "      <th>5</th>\n",
       "      <td>Data Analyst</td>\n",
       "      <td>Entry</td>\n",
       "      <td>FT</td>\n",
       "      <td>72000</td>\n",
       "      <td>US</td>\n",
       "      <td>United States</td>\n",
       "      <td>Remote</td>\n",
       "    </tr>\n",
       "    <tr>\n",
       "      <th>10</th>\n",
       "      <td>Data Scientist</td>\n",
       "      <td>Entry</td>\n",
       "      <td>FT</td>\n",
       "      <td>51321</td>\n",
       "      <td>FR</td>\n",
       "      <td>France</td>\n",
       "      <td>On-Site</td>\n",
       "    </tr>\n",
       "    <tr>\n",
       "      <th>12</th>\n",
       "      <td>Data Scientist</td>\n",
       "      <td>Entry</td>\n",
       "      <td>FT</td>\n",
       "      <td>39916</td>\n",
       "      <td>FR</td>\n",
       "      <td>France</td>\n",
       "      <td>On-Site</td>\n",
       "    </tr>\n",
       "    <tr>\n",
       "      <th>16</th>\n",
       "      <td>Data Engineer</td>\n",
       "      <td>Entry</td>\n",
       "      <td>FT</td>\n",
       "      <td>41689</td>\n",
       "      <td>JP</td>\n",
       "      <td>Japan</td>\n",
       "      <td>Remote</td>\n",
       "    </tr>\n",
       "    <tr>\n",
       "      <th>18</th>\n",
       "      <td>Data Science Consultant</td>\n",
       "      <td>Entry</td>\n",
       "      <td>FT</td>\n",
       "      <td>5707</td>\n",
       "      <td>IN</td>\n",
       "      <td>India</td>\n",
       "      <td>Hybrid</td>\n",
       "    </tr>\n",
       "  </tbody>\n",
       "</table>\n",
       "</div>"
      ],
      "text/plain": [
       "                  job_title experience_level employment_type  salary_in_usd  \\\n",
       "5              Data Analyst            Entry              FT          72000   \n",
       "10           Data Scientist            Entry              FT          51321   \n",
       "12           Data Scientist            Entry              FT          39916   \n",
       "16            Data Engineer            Entry              FT          41689   \n",
       "18  Data Science Consultant            Entry              FT           5707   \n",
       "\n",
       "   employee_residence company_location remote_ratio  \n",
       "5                  US    United States       Remote  \n",
       "10                 FR           France      On-Site  \n",
       "12                 FR           France      On-Site  \n",
       "16                 JP            Japan       Remote  \n",
       "18                 IN            India       Hybrid  "
      ]
     },
     "execution_count": 19,
     "metadata": {},
     "output_type": "execute_result"
    }
   ],
   "source": [
    "## Lets take a look at the salary data for all available company locations\n",
    "\n",
    "exp_entry = salaries_jobs[\"experience_level\"]==\"Entry\"\n",
    "ft_jobs = salaries_jobs[\"employment_type\"]==\"FT\"\n",
    "\n",
    "salaries_global_EN = salaries_jobs[exp_entry & ft_jobs]\n",
    "\n",
    "salaries_global_EN.head()"
   ]
  },
  {
   "cell_type": "code",
   "execution_count": 20,
   "id": "7fe28963",
   "metadata": {
    "execution": {
     "iopub.execute_input": "2022-08-13T07:52:57.142036Z",
     "iopub.status.busy": "2022-08-13T07:52:57.141641Z",
     "iopub.status.idle": "2022-08-13T07:52:57.272953Z",
     "shell.execute_reply": "2022-08-13T07:52:57.271927Z"
    },
    "papermill": {
     "duration": 0.150528,
     "end_time": "2022-08-13T07:52:57.275434",
     "exception": false,
     "start_time": "2022-08-13T07:52:57.124906",
     "status": "completed"
    },
    "tags": []
   },
   "outputs": [
    {
     "data": {
      "image/png": "[encoded data removed]",
      "text/plain": [
       "<Figure size 720x432 with 1 Axes>"
      ]
     },
     "metadata": {
      "needs_background": "light"
     },
     "output_type": "display_data"
    }
   ],
   "source": [
    "## Count of Entry Level remote jobs\n",
    "\n",
    "global_remote_count = salaries_global_EN.groupby([\"remote_ratio\"])[\"remote_ratio\"].count().sort_values()\n",
    "\n",
    "## Bar graph visualizing number of jobs per remote_ratio in Entry Level US positions\n",
    "\n",
    "fig, ax = plt.subplots()\n",
    "fig.set_size_inches([10, 6])\n",
    "\n",
    "bar2 = ax.bar(global_remote_count.index, global_remote_count)\n",
    "\n",
    "ax.set_xlabel(\"remote_ratio\")\n",
    "ax.set_ylabel(\"count\")\n",
    "ax.bar_label(bar2)\n",
    "\n",
    "plt.show()"
   ]
  },
  {
   "cell_type": "markdown",
   "id": "5906ec16",
   "metadata": {
    "papermill": {
     "duration": 0.015426,
     "end_time": "2022-08-13T07:52:57.306849",
     "exception": false,
     "start_time": "2022-08-13T07:52:57.291423",
     "status": "completed"
    },
    "tags": []
   },
   "source": [
    "Looks like Remote global positions are still far more prevalent globaly than On-Site or Hybrid but compared to US positions the ratio of Remote to On-Site is about 3x while in the US its 11x as many so I'm going to proceed comparing the global remote positions for this question."
   ]
  },
  {
   "cell_type": "code",
   "execution_count": 21,
   "id": "f6ee1252",
   "metadata": {
    "execution": {
     "iopub.execute_input": "2022-08-13T07:52:57.340592Z",
     "iopub.status.busy": "2022-08-13T07:52:57.339740Z",
     "iopub.status.idle": "2022-08-13T07:52:57.361729Z",
     "shell.execute_reply": "2022-08-13T07:52:57.360661Z"
    },
    "papermill": {
     "duration": 0.041579,
     "end_time": "2022-08-13T07:52:57.364158",
     "exception": false,
     "start_time": "2022-08-13T07:52:57.322579",
     "status": "completed"
    },
    "tags": []
   },
   "outputs": [
    {
     "data": {
      "text/html": [
       "<div>\n",
       "<style scoped>\n",
       "    .dataframe tbody tr th:only-of-type {\n",
       "        vertical-align: middle;\n",
       "    }\n",
       "\n",
       "    .dataframe tbody tr th {\n",
       "        vertical-align: top;\n",
       "    }\n",
       "\n",
       "    .dataframe thead th {\n",
       "        text-align: right;\n",
       "    }\n",
       "</style>\n",
       "<table border=\"1\" class=\"dataframe\">\n",
       "  <thead>\n",
       "    <tr style=\"text-align: right;\">\n",
       "      <th></th>\n",
       "      <th>salary_in_usd</th>\n",
       "      <th>us_mean_salary</th>\n",
       "      <th>difference</th>\n",
       "    </tr>\n",
       "    <tr>\n",
       "      <th>remote_ratio</th>\n",
       "      <th></th>\n",
       "      <th></th>\n",
       "      <th></th>\n",
       "    </tr>\n",
       "  </thead>\n",
       "  <tbody>\n",
       "    <tr>\n",
       "      <th>Remote</th>\n",
       "      <td>66885.45</td>\n",
       "      <td>94928.57</td>\n",
       "      <td>-28043.12</td>\n",
       "    </tr>\n",
       "    <tr>\n",
       "      <th>Hybrid</th>\n",
       "      <td>63897.62</td>\n",
       "      <td>108800.00</td>\n",
       "      <td>-44902.38</td>\n",
       "    </tr>\n",
       "    <tr>\n",
       "      <th>On-Site</th>\n",
       "      <td>57666.36</td>\n",
       "      <td>112500.00</td>\n",
       "      <td>-54833.64</td>\n",
       "    </tr>\n",
       "  </tbody>\n",
       "</table>\n",
       "</div>"
      ],
      "text/plain": [
       "              salary_in_usd  us_mean_salary  difference\n",
       "remote_ratio                                           \n",
       "Remote             66885.45        94928.57   -28043.12\n",
       "Hybrid             63897.62       108800.00   -44902.38\n",
       "On-Site            57666.36       112500.00   -54833.64"
      ]
     },
     "execution_count": 21,
     "metadata": {},
     "output_type": "execute_result"
    }
   ],
   "source": [
    "## Average salary for each remote_ratio in Entry Level global position\n",
    "\n",
    "mean_global_EN = round(salaries_global_EN.groupby(salaries_global_EN[\"remote_ratio\"]).mean().sort_values(\"salary_in_usd\", ascending=False), 2)\n",
    "\n",
    "## Now out of curiousity lets compare that with the US average\n",
    "mean_global_EN[\"us_mean_salary\"] = round(salaries_EN.groupby(salaries_EN[\"remote_ratio\"]).mean().sort_values(\"salary_in_usd\", ascending=False), 2)\n",
    "\n",
    "## Difference between mean global salaries and mean US salaries for Entry Level positions\n",
    "mean_global_EN[\"difference\"] = mean_global_EN[\"salary_in_usd\"]-mean_global_EN[\"us_mean_salary\"]\n",
    "\n",
    "difference = mean_global_EN.sort_values(\"salary_in_usd\", ascending=False)\n",
    "\n",
    "difference"
   ]
  },
  {
   "cell_type": "markdown",
   "id": "ced519db",
   "metadata": {
    "papermill": {
     "duration": 0.015515,
     "end_time": "2022-08-13T07:52:57.395667",
     "exception": false,
     "start_time": "2022-08-13T07:52:57.380152",
     "status": "completed"
    },
    "tags": []
   },
   "source": [
    "If we compared mean salaries globally and the US, it looks like the US has a larger income across the board but due to the low number of On-Site and Hybrid positions compared to the global numbers, this isn't a good conclusion."
   ]
  },
  {
   "cell_type": "code",
   "execution_count": 22,
   "id": "669ab726",
   "metadata": {
    "execution": {
     "iopub.execute_input": "2022-08-13T07:52:57.429661Z",
     "iopub.status.busy": "2022-08-13T07:52:57.428884Z",
     "iopub.status.idle": "2022-08-13T07:52:57.595055Z",
     "shell.execute_reply": "2022-08-13T07:52:57.593818Z"
    },
    "papermill": {
     "duration": 0.186258,
     "end_time": "2022-08-13T07:52:57.597867",
     "exception": false,
     "start_time": "2022-08-13T07:52:57.411609",
     "status": "completed"
    },
    "tags": []
   },
   "outputs": [
    {
     "data": {
      "image/png": "[encoded data removed]",
      "text/plain": [
       "<Figure size 864x576 with 1 Axes>"
      ]
     },
     "metadata": {
      "needs_background": "light"
     },
     "output_type": "display_data"
    }
   ],
   "source": [
    "## Visual comparison of Entry Level Global Salaries on average between remote ratios\n",
    "\n",
    "fig, ax = plt.subplots()\n",
    "fig.set_size_inches([12, 8])\n",
    "\n",
    "bar3 = ax.bar(difference.index, difference[\"salary_in_usd\"])\n",
    "\n",
    "ax.set_ylabel(\"Yearly Mean Salary (USD)\")\n",
    "ax.set_xlabel(\"remote_ratio\")\n",
    "ax.set_title(\"Average Yearly Salary in US Entry Level Positions\")\n",
    "ax.bar_label(bar3)\n",
    "\n",
    "\n",
    "plt.show()"
   ]
  },
  {
   "cell_type": "markdown",
   "id": "3c4e0a34",
   "metadata": {
    "papermill": {
     "duration": 0.016278,
     "end_time": "2022-08-13T07:52:57.630648",
     "exception": false,
     "start_time": "2022-08-13T07:52:57.614370",
     "status": "completed"
    },
    "tags": []
   },
   "source": [
    "Looks like remote makes a bit more on average than Hybrid or On-Site positions. I'm curious to see if remote positions are paid more because they have a more demanding set of qualifications or maybe its due to their location? I'll take a look at that a bit later. For now I also want to see how pay is distributed by country in each remote ratio, hopefully we can obtain some insights on the varying salaries."
   ]
  },
  {
   "cell_type": "code",
   "execution_count": 23,
   "id": "74fd8581",
   "metadata": {
    "execution": {
     "iopub.execute_input": "2022-08-13T07:52:57.665379Z",
     "iopub.status.busy": "2022-08-13T07:52:57.664977Z",
     "iopub.status.idle": "2022-08-13T07:52:57.680438Z",
     "shell.execute_reply": "2022-08-13T07:52:57.679255Z"
    },
    "papermill": {
     "duration": 0.035798,
     "end_time": "2022-08-13T07:52:57.682864",
     "exception": false,
     "start_time": "2022-08-13T07:52:57.647066",
     "status": "completed"
    },
    "tags": []
   },
   "outputs": [
    {
     "data": {
      "text/html": [
       "<div>\n",
       "<style scoped>\n",
       "    .dataframe tbody tr th:only-of-type {\n",
       "        vertical-align: middle;\n",
       "    }\n",
       "\n",
       "    .dataframe tbody tr th {\n",
       "        vertical-align: top;\n",
       "    }\n",
       "\n",
       "    .dataframe thead th {\n",
       "        text-align: right;\n",
       "    }\n",
       "</style>\n",
       "<table border=\"1\" class=\"dataframe\">\n",
       "  <thead>\n",
       "    <tr style=\"text-align: right;\">\n",
       "      <th></th>\n",
       "      <th>company_location</th>\n",
       "      <th>company_count</th>\n",
       "    </tr>\n",
       "  </thead>\n",
       "  <tbody>\n",
       "    <tr>\n",
       "      <th>0</th>\n",
       "      <td>United States</td>\n",
       "      <td>28</td>\n",
       "    </tr>\n",
       "    <tr>\n",
       "      <th>1</th>\n",
       "      <td>Germany</td>\n",
       "      <td>10</td>\n",
       "    </tr>\n",
       "    <tr>\n",
       "      <th>2</th>\n",
       "      <td>India</td>\n",
       "      <td>9</td>\n",
       "    </tr>\n",
       "    <tr>\n",
       "      <th>3</th>\n",
       "      <td>United Kingdom</td>\n",
       "      <td>5</td>\n",
       "    </tr>\n",
       "    <tr>\n",
       "      <th>4</th>\n",
       "      <td>France</td>\n",
       "      <td>5</td>\n",
       "    </tr>\n",
       "  </tbody>\n",
       "</table>\n",
       "</div>"
      ],
      "text/plain": [
       "  company_location  company_count\n",
       "0    United States             28\n",
       "1          Germany             10\n",
       "2            India              9\n",
       "3   United Kingdom              5\n",
       "4           France              5"
      ]
     },
     "execution_count": 23,
     "metadata": {},
     "output_type": "execute_result"
    }
   ],
   "source": [
    "## Number of FT EN jobs per country in the df\n",
    "\n",
    "global_count = salaries_global_EN[\"company_location\"].value_counts()\n",
    "\n",
    "# converting .value_count result into new df and assigning new names to the columns\n",
    "comp_counts = pd.DataFrame(global_count)\n",
    "comp_counts = comp_counts.reset_index()\n",
    "comp_counts.columns = ['company_location', 'company_count']\n",
    "comp_counts.head()"
   ]
  },
  {
   "cell_type": "code",
   "execution_count": 24,
   "id": "2de72f41",
   "metadata": {
    "execution": {
     "iopub.execute_input": "2022-08-13T07:52:57.717912Z",
     "iopub.status.busy": "2022-08-13T07:52:57.717189Z",
     "iopub.status.idle": "2022-08-13T07:52:58.048426Z",
     "shell.execute_reply": "2022-08-13T07:52:58.047098Z"
    },
    "papermill": {
     "duration": 0.351758,
     "end_time": "2022-08-13T07:52:58.051161",
     "exception": false,
     "start_time": "2022-08-13T07:52:57.699403",
     "status": "completed"
    },
    "tags": []
   },
   "outputs": [
    {
     "name": "stderr",
     "output_type": "stream",
     "text": [
      "/opt/conda/lib/python3.7/site-packages/ipykernel_launcher.py:8: UserWarning: FixedFormatter should only be used together with FixedLocator\n",
      "  \n"
     ]
    },
    {
     "data": {
      "image/png": "[encoded data removed]",
      "text/plain": [
       "<Figure size 720x432 with 1 Axes>"
      ]
     },
     "metadata": {
      "needs_background": "light"
     },
     "output_type": "display_data"
    }
   ],
   "source": [
    "## Bar visual of number of companies per country\n",
    "fig, ax = plt.subplots()\n",
    "fig.set_size_inches([10, 6])\n",
    "\n",
    "bar4 = ax.bar(comp_counts[\"company_location\"], comp_counts[\"company_count\"])\n",
    "ax.set_xlabel(\"Country\")\n",
    "ax.set_ylabel(\"Company Count\")\n",
    "ax.set_xticklabels(comp_counts[\"company_location\"], rotation=90)\n",
    "ax.bar_label(bar4)\n",
    "\n",
    "plt.show()"
   ]
  },
  {
   "cell_type": "markdown",
   "id": "8dcd7c61",
   "metadata": {
    "papermill": {
     "duration": 0.016748,
     "end_time": "2022-08-13T07:52:58.085041",
     "exception": false,
     "start_time": "2022-08-13T07:52:58.068293",
     "status": "completed"
    },
    "tags": []
   },
   "source": [
    "Looks like there are a lot of countries with less than 5 companies located in them so lets work with those with 5+ companies to get a decent average."
   ]
  },
  {
   "cell_type": "code",
   "execution_count": 25,
   "id": "a2a6763b",
   "metadata": {
    "execution": {
     "iopub.execute_input": "2022-08-13T07:52:58.120738Z",
     "iopub.status.busy": "2022-08-13T07:52:58.120280Z",
     "iopub.status.idle": "2022-08-13T07:52:58.151384Z",
     "shell.execute_reply": "2022-08-13T07:52:58.150078Z"
    },
    "papermill": {
     "duration": 0.052129,
     "end_time": "2022-08-13T07:52:58.154121",
     "exception": false,
     "start_time": "2022-08-13T07:52:58.101992",
     "status": "completed"
    },
    "tags": []
   },
   "outputs": [
    {
     "data": {
      "text/html": [
       "<div>\n",
       "<style scoped>\n",
       "    .dataframe tbody tr th:only-of-type {\n",
       "        vertical-align: middle;\n",
       "    }\n",
       "\n",
       "    .dataframe tbody tr th {\n",
       "        vertical-align: top;\n",
       "    }\n",
       "\n",
       "    .dataframe thead th {\n",
       "        text-align: right;\n",
       "    }\n",
       "</style>\n",
       "<table border=\"1\" class=\"dataframe\">\n",
       "  <thead>\n",
       "    <tr style=\"text-align: right;\">\n",
       "      <th></th>\n",
       "      <th>company_location</th>\n",
       "      <th>mean_salary_in_usd</th>\n",
       "      <th>company_count</th>\n",
       "    </tr>\n",
       "  </thead>\n",
       "  <tbody>\n",
       "    <tr>\n",
       "      <th>3</th>\n",
       "      <td>United States</td>\n",
       "      <td>98660.71</td>\n",
       "      <td>28</td>\n",
       "    </tr>\n",
       "    <tr>\n",
       "      <th>4</th>\n",
       "      <td>United Kingdom</td>\n",
       "      <td>65604.60</td>\n",
       "      <td>5</td>\n",
       "    </tr>\n",
       "    <tr>\n",
       "      <th>5</th>\n",
       "      <td>Germany</td>\n",
       "      <td>61710.40</td>\n",
       "      <td>10</td>\n",
       "    </tr>\n",
       "    <tr>\n",
       "      <th>7</th>\n",
       "      <td>France</td>\n",
       "      <td>47325.60</td>\n",
       "      <td>5</td>\n",
       "    </tr>\n",
       "    <tr>\n",
       "      <th>16</th>\n",
       "      <td>India</td>\n",
       "      <td>19629.33</td>\n",
       "      <td>9</td>\n",
       "    </tr>\n",
       "  </tbody>\n",
       "</table>\n",
       "</div>"
      ],
      "text/plain": [
       "   company_location  mean_salary_in_usd  company_count\n",
       "3     United States            98660.71             28\n",
       "4    United Kingdom            65604.60              5\n",
       "5           Germany            61710.40             10\n",
       "7            France            47325.60              5\n",
       "16            India            19629.33              9"
      ]
     },
     "execution_count": 25,
     "metadata": {},
     "output_type": "execute_result"
    }
   ],
   "source": [
    "##Creating a new df with company locations and their respective mean salaries\n",
    "\n",
    "mean_salaries_global = round(salaries_global_EN.groupby(salaries_global_EN[\"company_location\"]).mean().sort_values(\"salary_in_usd\", ascending=False),2)\n",
    "mean_salaries = pd.DataFrame(mean_salaries_global)\n",
    "mean_salaries = mean_salaries.reset_index()\n",
    "mean_salaries.columns = [\"company_location\", \"mean_salary_in_usd\"]\n",
    "\n",
    "## Joining comp_counts table with mean salaries to provide context to each mean salary\n",
    "mean_salaries_df = mean_salaries.merge(comp_counts, on=\"company_location\", how=\"left\") \n",
    "\n",
    "## Lets adjust the table to only countries with 5 or more companies appear\n",
    "adj_mean_salaries = mean_salaries_df[(mean_salaries_df[\"company_count\"]>=5)] \n",
    "adj_mean_salaries"
   ]
  },
  {
   "cell_type": "code",
   "execution_count": 26,
   "id": "25d69597",
   "metadata": {
    "execution": {
     "iopub.execute_input": "2022-08-13T07:52:58.190521Z",
     "iopub.status.busy": "2022-08-13T07:52:58.190085Z",
     "iopub.status.idle": "2022-08-13T07:52:58.364081Z",
     "shell.execute_reply": "2022-08-13T07:52:58.362668Z"
    },
    "papermill": {
     "duration": 0.195546,
     "end_time": "2022-08-13T07:52:58.366895",
     "exception": false,
     "start_time": "2022-08-13T07:52:58.171349",
     "status": "completed"
    },
    "tags": []
   },
   "outputs": [
    {
     "name": "stderr",
     "output_type": "stream",
     "text": [
      "/opt/conda/lib/python3.7/site-packages/ipykernel_launcher.py:9: UserWarning: FixedFormatter should only be used together with FixedLocator\n",
      "  if __name__ == \"__main__\":\n"
     ]
    },
    {
     "data": {
      "image/png": "[encoded data removed]",
      "text/plain": [
       "<Figure size 720x432 with 1 Axes>"
      ]
     },
     "metadata": {
      "needs_background": "light"
     },
     "output_type": "display_data"
    }
   ],
   "source": [
    "## Bar graph of the countries with 5+ companies and their average salaries for Entry Level positions\n",
    "\n",
    "fig, ax = plt.subplots()\n",
    "fig.set_size_inches([10, 6])\n",
    "\n",
    "bar5=ax.bar(adj_mean_salaries[\"company_location\"], adj_mean_salaries[\"mean_salary_in_usd\"])\n",
    "ax.set_xlabel(\"Country\")\n",
    "ax.set_ylabel(\"Avg. Salary (USD)\")\n",
    "ax.set_xticklabels(comp_counts[\"company_location\"], rotation=90)\n",
    "ax.bar_label(bar5)\n",
    "\n",
    "plt.show()"
   ]
  },
  {
   "cell_type": "markdown",
   "id": "6c981132",
   "metadata": {
    "papermill": {
     "duration": 0.017238,
     "end_time": "2022-08-13T07:52:58.401973",
     "exception": false,
     "start_time": "2022-08-13T07:52:58.384735",
     "status": "completed"
    },
    "tags": []
   },
   "source": [
    "Based on the above graph, the highest average salaries globaly (with 5+ companies) are the US, Germany, India, the UK, and France."
   ]
  },
  {
   "cell_type": "code",
   "execution_count": 27,
   "id": "f327c995",
   "metadata": {
    "execution": {
     "iopub.execute_input": "2022-08-13T07:52:58.439201Z",
     "iopub.status.busy": "2022-08-13T07:52:58.438819Z",
     "iopub.status.idle": "2022-08-13T07:52:58.458426Z",
     "shell.execute_reply": "2022-08-13T07:52:58.457286Z"
    },
    "papermill": {
     "duration": 0.041472,
     "end_time": "2022-08-13T07:52:58.460939",
     "exception": false,
     "start_time": "2022-08-13T07:52:58.419467",
     "status": "completed"
    },
    "tags": []
   },
   "outputs": [
    {
     "data": {
      "text/html": [
       "<div>\n",
       "<style scoped>\n",
       "    .dataframe tbody tr th:only-of-type {\n",
       "        vertical-align: middle;\n",
       "    }\n",
       "\n",
       "    .dataframe tbody tr th {\n",
       "        vertical-align: top;\n",
       "    }\n",
       "\n",
       "    .dataframe thead th {\n",
       "        text-align: right;\n",
       "    }\n",
       "</style>\n",
       "<table border=\"1\" class=\"dataframe\">\n",
       "  <thead>\n",
       "    <tr style=\"text-align: right;\">\n",
       "      <th></th>\n",
       "      <th>company_location</th>\n",
       "      <th>remote_ratio</th>\n",
       "      <th>avg_salary_in_usd</th>\n",
       "    </tr>\n",
       "  </thead>\n",
       "  <tbody>\n",
       "    <tr>\n",
       "      <th>0</th>\n",
       "      <td>American Samoa</td>\n",
       "      <td>Remote</td>\n",
       "      <td>66886.45</td>\n",
       "    </tr>\n",
       "    <tr>\n",
       "      <th>1</th>\n",
       "      <td>Australia</td>\n",
       "      <td>Hybrid</td>\n",
       "      <td>63898.62</td>\n",
       "    </tr>\n",
       "    <tr>\n",
       "      <th>2</th>\n",
       "      <td>Australia</td>\n",
       "      <td>Remote</td>\n",
       "      <td>66886.45</td>\n",
       "    </tr>\n",
       "    <tr>\n",
       "      <th>3</th>\n",
       "      <td>Canada</td>\n",
       "      <td>On-Site</td>\n",
       "      <td>57668.36</td>\n",
       "    </tr>\n",
       "    <tr>\n",
       "      <th>4</th>\n",
       "      <td>Canada</td>\n",
       "      <td>Remote</td>\n",
       "      <td>66886.45</td>\n",
       "    </tr>\n",
       "  </tbody>\n",
       "</table>\n",
       "</div>"
      ],
      "text/plain": [
       "  company_location remote_ratio  avg_salary_in_usd\n",
       "0   American Samoa       Remote           66886.45\n",
       "1        Australia       Hybrid           63898.62\n",
       "2        Australia       Remote           66886.45\n",
       "3           Canada      On-Site           57668.36\n",
       "4           Canada       Remote           66886.45"
      ]
     },
     "execution_count": 27,
     "metadata": {},
     "output_type": "execute_result"
    }
   ],
   "source": [
    "## Next, lets get the average salary of each country based on its remote ratio for Entry Level Positions\n",
    "\n",
    "salary_rr = salaries_global_EN.groupby(\"company_location\")[\"remote_ratio\"].value_counts() + round(salaries_global_EN.groupby(\"remote_ratio\")[\"salary_in_usd\"].mean(), 2)\n",
    "\n",
    "mean_salary_rr = pd.DataFrame(salary_rr)\n",
    "mean_salary_rr = salary_rr.reset_index()\n",
    "mean_salary_rr.columns = ['company_location', 'remote_ratio', 'avg_salary_in_usd']\n",
    "\n",
    "mean_salary_rr.head()"
   ]
  },
  {
   "cell_type": "code",
   "execution_count": 28,
   "id": "a59eb75e",
   "metadata": {
    "execution": {
     "iopub.execute_input": "2022-08-13T07:52:58.499165Z",
     "iopub.status.busy": "2022-08-13T07:52:58.497993Z",
     "iopub.status.idle": "2022-08-13T07:53:05.327083Z",
     "shell.execute_reply": "2022-08-13T07:53:05.325944Z"
    },
    "papermill": {
     "duration": 6.850596,
     "end_time": "2022-08-13T07:53:05.329588",
     "exception": false,
     "start_time": "2022-08-13T07:52:58.478992",
     "status": "completed"
    },
    "tags": []
   },
   "outputs": [
    {
     "data": {
      "image/png": "[encoded data removed]",
      "text/plain": [
       "<Figure size 432x288 with 1 Axes>"
      ]
     },
     "metadata": {},
     "output_type": "display_data"
    },
    {
     "data": {
      "text/plain": [
       "<Figure size 1152x864 with 0 Axes>"
      ]
     },
     "metadata": {},
     "output_type": "display_data"
    }
   ],
   "source": [
    "## Using seaborn to make a strip plot of each remote ratio for the different company locations\n",
    "\n",
    "sns.set_theme(style=\"whitegrid\")\n",
    "\n",
    "g = sns.stripplot(x=\"avg_salary_in_usd\", y=\"remote_ratio\", hue=\"company_location\",\n",
    "              data=mean_salary_rr, dodge=True, alpha=.25, zorder=1) \n",
    "\n",
    "g = sns.pointplot(x=\"avg_salary_in_usd\", y=\"remote_ratio\", hue=\"company_location\",\n",
    "              data=mean_salary_rr, dodge=.8 - .8 / 3,\n",
    "              join=False, palette=\"dark\",\n",
    "              markers=\"d\", scale=.75, ci=None)\n",
    "\n",
    "## Placing legend outside of graph to improve readability \n",
    "legend = len(mean_salary_rr['company_location'].unique()) \n",
    "\n",
    "handles, labels = g.get_legend_handles_labels()\n",
    "comp_legend = handles[:legend], labels[:legend]\n",
    "\n",
    "color_leg = g.legend(*comp_legend, title=\"Company Location\", bbox_to_anchor=(1.05, 1), loc=\"upper left\", borderaxespad=0.)\n",
    "\n",
    "g.add_artist(color_leg)\n",
    "plt.subplots_adjust(right=0.75)\n",
    "plt.figure(figsize = (16,12))\n",
    "\n",
    "plt.show()"
   ]
  },
  {
   "cell_type": "markdown",
   "id": "859571c1",
   "metadata": {
    "papermill": {
     "duration": 0.018305,
     "end_time": "2022-08-13T07:53:05.366725",
     "exception": false,
     "start_time": "2022-08-13T07:53:05.348420",
     "status": "completed"
    },
    "tags": []
   },
   "source": [
    "Looks like the average salary in different countries remain fairly consistent based on the kind of remote ratio the position has. Remote positions entirely hold a higher average than Hybrid or On-Site positions, likewise, Hybrid also has a higher average than On-Site. It's probable, based on our previous analyses, since Remote positions have a higher average in the US as well as globaly, remote positions are paid more not because of the location but rather due to position qualifications such as a university degree or a high expertice in the field. Next we'll take a look at the prevalence of different positions and how that may relate to their pay."
   ]
  },
  {
   "cell_type": "markdown",
   "id": "790ee15a",
   "metadata": {
    "papermill": {
     "duration": 0.018301,
     "end_time": "2022-08-13T07:53:05.403419",
     "exception": false,
     "start_time": "2022-08-13T07:53:05.385118",
     "status": "completed"
    },
    "tags": []
   },
   "source": [
    "# What type of position is more prevalent in the field?\n"
   ]
  },
  {
   "cell_type": "code",
   "execution_count": 29,
   "id": "f17b2135",
   "metadata": {
    "execution": {
     "iopub.execute_input": "2022-08-13T07:53:05.442224Z",
     "iopub.status.busy": "2022-08-13T07:53:05.441844Z",
     "iopub.status.idle": "2022-08-13T07:53:05.493899Z",
     "shell.execute_reply": "2022-08-13T07:53:05.492740Z"
    },
    "papermill": {
     "duration": 0.074635,
     "end_time": "2022-08-13T07:53:05.496455",
     "exception": false,
     "start_time": "2022-08-13T07:53:05.421820",
     "status": "completed"
    },
    "tags": []
   },
   "outputs": [
    {
     "data": {
      "text/html": [
       "<div>\n",
       "<style scoped>\n",
       "    .dataframe tbody tr th:only-of-type {\n",
       "        vertical-align: middle;\n",
       "    }\n",
       "\n",
       "    .dataframe tbody tr th {\n",
       "        vertical-align: top;\n",
       "    }\n",
       "\n",
       "    .dataframe thead th {\n",
       "        text-align: right;\n",
       "    }\n",
       "</style>\n",
       "<table border=\"1\" class=\"dataframe\">\n",
       "  <thead>\n",
       "    <tr style=\"text-align: right;\">\n",
       "      <th></th>\n",
       "      <th>job_title</th>\n",
       "      <th>experience_level</th>\n",
       "      <th>job_count</th>\n",
       "    </tr>\n",
       "  </thead>\n",
       "  <tbody>\n",
       "    <tr>\n",
       "      <th>0</th>\n",
       "      <td>AI Scientist</td>\n",
       "      <td>Entry</td>\n",
       "      <td>4</td>\n",
       "    </tr>\n",
       "    <tr>\n",
       "      <th>1</th>\n",
       "      <td>Applied Data Scientist</td>\n",
       "      <td>Entry</td>\n",
       "      <td>1</td>\n",
       "    </tr>\n",
       "    <tr>\n",
       "      <th>2</th>\n",
       "      <td>Applied Machine Learning Scientist</td>\n",
       "      <td>Entry</td>\n",
       "      <td>1</td>\n",
       "    </tr>\n",
       "    <tr>\n",
       "      <th>3</th>\n",
       "      <td>BI Data Analyst</td>\n",
       "      <td>Entry</td>\n",
       "      <td>2</td>\n",
       "    </tr>\n",
       "    <tr>\n",
       "      <th>4</th>\n",
       "      <td>Big Data Engineer</td>\n",
       "      <td>Entry</td>\n",
       "      <td>3</td>\n",
       "    </tr>\n",
       "    <tr>\n",
       "      <th>...</th>\n",
       "      <td>...</td>\n",
       "      <td>...</td>\n",
       "      <td>...</td>\n",
       "    </tr>\n",
       "    <tr>\n",
       "      <th>100</th>\n",
       "      <td>Head of Data Science</td>\n",
       "      <td>Executive</td>\n",
       "      <td>3</td>\n",
       "    </tr>\n",
       "    <tr>\n",
       "      <th>101</th>\n",
       "      <td>Head of Machine Learning</td>\n",
       "      <td>Executive</td>\n",
       "      <td>1</td>\n",
       "    </tr>\n",
       "    <tr>\n",
       "      <th>102</th>\n",
       "      <td>Lead Data Engineer</td>\n",
       "      <td>Executive</td>\n",
       "      <td>1</td>\n",
       "    </tr>\n",
       "    <tr>\n",
       "      <th>103</th>\n",
       "      <td>Principal Data Engineer</td>\n",
       "      <td>Executive</td>\n",
       "      <td>1</td>\n",
       "    </tr>\n",
       "    <tr>\n",
       "      <th>104</th>\n",
       "      <td>Principal Data Scientist</td>\n",
       "      <td>Executive</td>\n",
       "      <td>1</td>\n",
       "    </tr>\n",
       "  </tbody>\n",
       "</table>\n",
       "<p>105 rows × 3 columns</p>\n",
       "</div>"
      ],
      "text/plain": [
       "                              job_title experience_level  job_count\n",
       "0                          AI Scientist            Entry          4\n",
       "1                Applied Data Scientist            Entry          1\n",
       "2    Applied Machine Learning Scientist            Entry          1\n",
       "3                       BI Data Analyst            Entry          2\n",
       "4                     Big Data Engineer            Entry          3\n",
       "..                                  ...              ...        ...\n",
       "100                Head of Data Science        Executive          3\n",
       "101            Head of Machine Learning        Executive          1\n",
       "102                  Lead Data Engineer        Executive          1\n",
       "103             Principal Data Engineer        Executive          1\n",
       "104            Principal Data Scientist        Executive          1\n",
       "\n",
       "[105 rows x 3 columns]"
      ]
     },
     "execution_count": 29,
     "metadata": {},
     "output_type": "execute_result"
    }
   ],
   "source": [
    "# Quick SQL query to generate a table organizing positions by experience in order of low to high experience\n",
    "\n",
    "position_count = pysql.sqldf(\"SELECT job_title, experience_level, COUNT(job_title) as job_count FROM salaries_jobs GROUP BY job_title, experience_level ORDER BY CASE WHEN experience_level = 'Entry' THEN 1 WHEN experience_level = 'Mid' THEN 2 WHEN experience_level = 'Senior' THEN 3 WHEN experience_level = 'Executive' THEN 4 END;\")\n",
    "\n",
    "position_count"
   ]
  },
  {
   "cell_type": "code",
   "execution_count": 30,
   "id": "8db733a7",
   "metadata": {
    "execution": {
     "iopub.execute_input": "2022-08-13T07:53:05.536294Z",
     "iopub.status.busy": "2022-08-13T07:53:05.535865Z",
     "iopub.status.idle": "2022-08-13T07:53:05.546256Z",
     "shell.execute_reply": "2022-08-13T07:53:05.545163Z"
    },
    "papermill": {
     "duration": 0.033663,
     "end_time": "2022-08-13T07:53:05.549099",
     "exception": false,
     "start_time": "2022-08-13T07:53:05.515436",
     "status": "completed"
    },
    "tags": []
   },
   "outputs": [
    {
     "name": "stdout",
     "output_type": "stream",
     "text": [
      "                    job_title experience_level  job_count\n",
      "8                Data Analyst            Entry         12\n",
      "10              Data Engineer            Entry         12\n",
      "11    Data Science Consultant            Entry          5\n",
      "12             Data Scientist            Entry         22\n",
      "16  Machine Learning Engineer            Entry          9\n",
      "------------------------------------------------------------\n",
      "                    job_title experience_level  job_count\n",
      "70             Data Scientist           Senior         61\n",
      "82  Machine Learning Engineer           Senior         20\n",
      "89   Principal Data Scientist           Senior          5\n",
      "90         Research Scientist           Senior          5\n",
      "98   Director of Data Science        Executive          6\n"
     ]
    }
   ],
   "source": [
    "## To simplify the visualization we'll make a new table excluding positions with less that 5 jobs\n",
    "## since they wont make the cut of the most prevalent positions in the industry anyway\n",
    "\n",
    "top_positions = position_count[position_count[\"job_count\"]>=5]\n",
    "\n",
    "print(top_positions.head(), top_positions.tail(), sep=\"\\n------------------------------------------------------------\\n\")\n"
   ]
  },
  {
   "cell_type": "code",
   "execution_count": 31,
   "id": "67086c7d",
   "metadata": {
    "execution": {
     "iopub.execute_input": "2022-08-13T07:53:05.588789Z",
     "iopub.status.busy": "2022-08-13T07:53:05.588399Z",
     "iopub.status.idle": "2022-08-13T07:53:06.952461Z",
     "shell.execute_reply": "2022-08-13T07:53:06.951127Z"
    },
    "papermill": {
     "duration": 1.387239,
     "end_time": "2022-08-13T07:53:06.955251",
     "exception": false,
     "start_time": "2022-08-13T07:53:05.568012",
     "status": "completed"
    },
    "tags": []
   },
   "outputs": [
    {
     "data": {
      "image/png": "[encoded data removed]",
      "text/plain": [
       "<Figure size 1440x360 with 4 Axes>"
      ]
     },
     "metadata": {},
     "output_type": "display_data"
    }
   ],
   "source": [
    "## Data Viz of position counts per experience level\n",
    "\n",
    "g2 = sns.catplot(y=\"job_title\", x=\"job_count\", col=\"experience_level\",\n",
    "                 col_wrap=4, kind=\"bar\", data=top_positions)\n",
    "\n",
    "ax = g2.facet_axis(0, 0)\n",
    "\n",
    "## Adding bar labels in facetgrid\n",
    "for ax in g2.axes.ravel():\n",
    "    for c in ax.containers:\n",
    "        labels = [v.get_width() for v in c]\n",
    "        ax.bar_label(c, labels=labels, label_type='edge')\n",
    "    ax.margins(y=0.2)\n",
    "\n",
    "plt.show()"
   ]
  },
  {
   "cell_type": "markdown",
   "id": "b327262d",
   "metadata": {
    "papermill": {
     "duration": 0.019512,
     "end_time": "2022-08-13T07:53:06.994714",
     "exception": false,
     "start_time": "2022-08-13T07:53:06.975202",
     "status": "completed"
    },
    "tags": []
   },
   "source": [
    "There's definitely some consistency on which are the most popular jobs across experience levels. Data Scientist seems to take the majority for Entry and Mid Level positions while Data Engineer looks to overtake Data Scientists in a Senior Level position. Regardless, the 3 most popular positions across the board look to be Data Scientists, Data Analysts and Data Engineers. \n",
    "\n",
    "An interesting detail from this analysis is that the Senior Level positions have a lot of positions exclusive to that bracket with Data Science Manager having the highest from these subset of positions. Understandably so, as Senior level positions will have managerial and department leading roles that won't be seen in Entry and Mid Level."
   ]
  },
  {
   "cell_type": "markdown",
   "id": "e1bbef9e",
   "metadata": {
    "papermill": {
     "duration": 0.019475,
     "end_time": "2022-08-13T07:53:07.034286",
     "exception": false,
     "start_time": "2022-08-13T07:53:07.014811",
     "status": "completed"
    },
    "tags": []
   },
   "source": [
    "# How do these jobs increase in pay as experience level increases?"
   ]
  },
  {
   "cell_type": "markdown",
   "id": "82d1a0f0",
   "metadata": {
    "papermill": {
     "duration": 0.019361,
     "end_time": "2022-08-13T07:53:07.073786",
     "exception": false,
     "start_time": "2022-08-13T07:53:07.054425",
     "status": "completed"
    },
    "tags": []
   },
   "source": [
    "For this particular section, we are going to take a look at how the 3 most prevalent positions from the previous analysis increase in pay as the experience level of the position changes. "
   ]
  },
  {
   "cell_type": "code",
   "execution_count": 32,
   "id": "04fc5a84",
   "metadata": {
    "execution": {
     "iopub.execute_input": "2022-08-13T07:53:07.114932Z",
     "iopub.status.busy": "2022-08-13T07:53:07.114530Z",
     "iopub.status.idle": "2022-08-13T07:53:07.133947Z",
     "shell.execute_reply": "2022-08-13T07:53:07.132801Z"
    },
    "papermill": {
     "duration": 0.043031,
     "end_time": "2022-08-13T07:53:07.136439",
     "exception": false,
     "start_time": "2022-08-13T07:53:07.093408",
     "status": "completed"
    },
    "tags": []
   },
   "outputs": [
    {
     "name": "stdout",
     "output_type": "stream",
     "text": [
      "         job_title experience_level employment_type  salary_in_usd  \\\n",
      "0   Data Scientist              Mid              FT          79833   \n",
      "5     Data Analyst            Entry              FT          72000   \n",
      "7   Data Scientist              Mid              FT          35735   \n",
      "10  Data Scientist            Entry              FT          51321   \n",
      "11  Data Scientist              Mid              FT          40481   \n",
      "\n",
      "   employee_residence company_location remote_ratio  \n",
      "0                  DE          Germany      On-Site  \n",
      "5                  US    United States       Remote  \n",
      "7                  HU          Hungary       Hybrid  \n",
      "10                 FR           France      On-Site  \n",
      "11                 IN            India      On-Site  \n",
      "--------------------------------------\n",
      "(365, 7)\n",
      "--------------------------------------\n",
      "job_title       job_title     \n",
      "Data Analyst    Data Analyst       96\n",
      "Data Engineer   Data Engineer     129\n",
      "Data Scientist  Data Scientist    140\n",
      "Name: job_title, dtype: int64\n"
     ]
    }
   ],
   "source": [
    "## This time we'll be doing a pandas .query() to filter the data frame for the positions being analyzed\n",
    "\n",
    "pay_per_exp = salaries_jobs.query(\"(job_title=='Data Analyst' and employment_type=='FT') or (job_title=='Data Engineer' and employment_type=='FT') or (job_title=='Data Scientist' and employment_type=='FT')\")\n",
    "\n",
    "## Confirming df query and reviewing position count total\n",
    "print(pay_per_exp.head(), pay_per_exp.shape, pay_per_exp.groupby(\"job_title\")[\"job_title\"].value_counts(), sep='\\n--------------------------------------\\n')"
   ]
  },
  {
   "cell_type": "code",
   "execution_count": 33,
   "id": "ede49302",
   "metadata": {
    "execution": {
     "iopub.execute_input": "2022-08-13T07:53:07.178583Z",
     "iopub.status.busy": "2022-08-13T07:53:07.177800Z",
     "iopub.status.idle": "2022-08-13T07:53:07.197519Z",
     "shell.execute_reply": "2022-08-13T07:53:07.196340Z"
    },
    "papermill": {
     "duration": 0.043597,
     "end_time": "2022-08-13T07:53:07.200062",
     "exception": false,
     "start_time": "2022-08-13T07:53:07.156465",
     "status": "completed"
    },
    "tags": []
   },
   "outputs": [
    {
     "data": {
      "text/html": [
       "<div>\n",
       "<style scoped>\n",
       "    .dataframe tbody tr th:only-of-type {\n",
       "        vertical-align: middle;\n",
       "    }\n",
       "\n",
       "    .dataframe tbody tr th {\n",
       "        vertical-align: top;\n",
       "    }\n",
       "\n",
       "    .dataframe thead th {\n",
       "        text-align: right;\n",
       "    }\n",
       "</style>\n",
       "<table border=\"1\" class=\"dataframe\">\n",
       "  <thead>\n",
       "    <tr style=\"text-align: right;\">\n",
       "      <th></th>\n",
       "      <th>job_title</th>\n",
       "      <th>experience_level</th>\n",
       "      <th>salary_in_usd</th>\n",
       "    </tr>\n",
       "  </thead>\n",
       "  <tbody>\n",
       "    <tr>\n",
       "      <th>0</th>\n",
       "      <td>Data Analyst</td>\n",
       "      <td>Entry</td>\n",
       "      <td>57924.91</td>\n",
       "    </tr>\n",
       "    <tr>\n",
       "      <th>1</th>\n",
       "      <td>Data Analyst</td>\n",
       "      <td>Executive</td>\n",
       "      <td>120000.00</td>\n",
       "    </tr>\n",
       "    <tr>\n",
       "      <th>2</th>\n",
       "      <td>Data Analyst</td>\n",
       "      <td>Mid</td>\n",
       "      <td>71699.21</td>\n",
       "    </tr>\n",
       "    <tr>\n",
       "      <th>3</th>\n",
       "      <td>Data Analyst</td>\n",
       "      <td>Senior</td>\n",
       "      <td>111922.63</td>\n",
       "    </tr>\n",
       "    <tr>\n",
       "      <th>4</th>\n",
       "      <td>Data Engineer</td>\n",
       "      <td>Entry</td>\n",
       "      <td>58933.50</td>\n",
       "    </tr>\n",
       "    <tr>\n",
       "      <th>5</th>\n",
       "      <td>Data Engineer</td>\n",
       "      <td>Executive</td>\n",
       "      <td>245500.00</td>\n",
       "    </tr>\n",
       "    <tr>\n",
       "      <th>6</th>\n",
       "      <td>Data Engineer</td>\n",
       "      <td>Mid</td>\n",
       "      <td>88250.84</td>\n",
       "    </tr>\n",
       "    <tr>\n",
       "      <th>7</th>\n",
       "      <td>Data Engineer</td>\n",
       "      <td>Senior</td>\n",
       "      <td>137035.84</td>\n",
       "    </tr>\n",
       "    <tr>\n",
       "      <th>8</th>\n",
       "      <td>Data Scientist</td>\n",
       "      <td>Entry</td>\n",
       "      <td>54780.55</td>\n",
       "    </tr>\n",
       "    <tr>\n",
       "      <th>9</th>\n",
       "      <td>Data Scientist</td>\n",
       "      <td>Mid</td>\n",
       "      <td>81734.71</td>\n",
       "    </tr>\n",
       "    <tr>\n",
       "      <th>10</th>\n",
       "      <td>Data Scientist</td>\n",
       "      <td>Senior</td>\n",
       "      <td>152971.02</td>\n",
       "    </tr>\n",
       "  </tbody>\n",
       "</table>\n",
       "</div>"
      ],
      "text/plain": [
       "         job_title experience_level  salary_in_usd\n",
       "0     Data Analyst            Entry       57924.91\n",
       "1     Data Analyst        Executive      120000.00\n",
       "2     Data Analyst              Mid       71699.21\n",
       "3     Data Analyst           Senior      111922.63\n",
       "4    Data Engineer            Entry       58933.50\n",
       "5    Data Engineer        Executive      245500.00\n",
       "6    Data Engineer              Mid       88250.84\n",
       "7    Data Engineer           Senior      137035.84\n",
       "8   Data Scientist            Entry       54780.55\n",
       "9   Data Scientist              Mid       81734.71\n",
       "10  Data Scientist           Senior      152971.02"
      ]
     },
     "execution_count": 33,
     "metadata": {},
     "output_type": "execute_result"
    }
   ],
   "source": [
    "##\n",
    "\n",
    "pay = round(pay_per_exp.sort_values(\"experience_level\").groupby([\"job_title\", \"experience_level\"])[\"salary_in_usd\"].mean(), 2)\n",
    "\n",
    "exp_pay = pd.DataFrame(pay)\n",
    "exp_pay = exp_pay.reset_index()\n",
    "\n",
    "exp_pay"
   ]
  },
  {
   "cell_type": "code",
   "execution_count": 34,
   "id": "6e2baf94",
   "metadata": {
    "execution": {
     "iopub.execute_input": "2022-08-13T07:53:07.243917Z",
     "iopub.status.busy": "2022-08-13T07:53:07.242664Z",
     "iopub.status.idle": "2022-08-13T07:53:07.617438Z",
     "shell.execute_reply": "2022-08-13T07:53:07.616227Z"
    },
    "papermill": {
     "duration": 0.399579,
     "end_time": "2022-08-13T07:53:07.619926",
     "exception": false,
     "start_time": "2022-08-13T07:53:07.220347",
     "status": "completed"
    },
    "tags": []
   },
   "outputs": [
    {
     "data": {
      "image/png": "[encoded data removed]",
      "text/plain": [
       "<Figure size 478.975x360 with 1 Axes>"
      ]
     },
     "metadata": {},
     "output_type": "display_data"
    }
   ],
   "source": [
    "## Average Salary of the 3 most popular data science positions as experience level increases\n",
    "\n",
    "sns.set_style(\"whitegrid\")\n",
    "sns.set_palette([\"Blue\", \"Red\", \"Purple\"])\n",
    "\n",
    "order = [\"Entry\", \"Mid\", \"Senior\", \"Executive\"] ## Defining order of experience level in sort\n",
    "\n",
    "## Redefining experience level to be able to plot it against its respective position salary\n",
    "exp_pay[\"numeric_exp\"] = pd.to_numeric(exp_pay.experience_level.replace([\"Entry\", \"Mid\", \"Senior\", \"Executive\"], [1, 2, 3, 4]))\n",
    "\n",
    "g3 = sns.catplot(x=\"numeric_exp\", y=\"salary_in_usd\", hue=\"job_title\", data=exp_pay, col_order=order, kind=\"bar\")\n",
    "\n",
    "g3.set(ylabel=\"Avg. Yearly Salary (USD)\",xlabel=\"Experience Level\")\n",
    "g3.set_xticklabels([\"Entry\", \"Mid\", \"Senior\", \"Executive\"]) ## Relabeling ticks to express respective experience level in the plot\n",
    "\n",
    "plt.show()"
   ]
  },
  {
   "cell_type": "code",
   "execution_count": 35,
   "id": "21c901ba",
   "metadata": {
    "execution": {
     "iopub.execute_input": "2022-08-13T07:53:07.663048Z",
     "iopub.status.busy": "2022-08-13T07:53:07.662585Z",
     "iopub.status.idle": "2022-08-13T07:53:07.688958Z",
     "shell.execute_reply": "2022-08-13T07:53:07.687604Z"
    },
    "papermill": {
     "duration": 0.051093,
     "end_time": "2022-08-13T07:53:07.691595",
     "exception": false,
     "start_time": "2022-08-13T07:53:07.640502",
     "status": "completed"
    },
    "tags": []
   },
   "outputs": [
    {
     "data": {
      "text/html": [
       "<div>\n",
       "<style scoped>\n",
       "    .dataframe tbody tr th:only-of-type {\n",
       "        vertical-align: middle;\n",
       "    }\n",
       "\n",
       "    .dataframe tbody tr th {\n",
       "        vertical-align: top;\n",
       "    }\n",
       "\n",
       "    .dataframe thead th {\n",
       "        text-align: right;\n",
       "    }\n",
       "</style>\n",
       "<table border=\"1\" class=\"dataframe\">\n",
       "  <thead>\n",
       "    <tr style=\"text-align: right;\">\n",
       "      <th></th>\n",
       "      <th>job_title</th>\n",
       "      <th>experience_level</th>\n",
       "      <th>salary_in_usd</th>\n",
       "      <th>numeric_exp</th>\n",
       "      <th>percent_increase</th>\n",
       "    </tr>\n",
       "  </thead>\n",
       "  <tbody>\n",
       "    <tr>\n",
       "      <th>0</th>\n",
       "      <td>Data Analyst</td>\n",
       "      <td>Entry</td>\n",
       "      <td>57924.91</td>\n",
       "      <td>1</td>\n",
       "      <td>0.0</td>\n",
       "    </tr>\n",
       "    <tr>\n",
       "      <th>2</th>\n",
       "      <td>Data Analyst</td>\n",
       "      <td>Mid</td>\n",
       "      <td>71699.21</td>\n",
       "      <td>2</td>\n",
       "      <td>24.0</td>\n",
       "    </tr>\n",
       "    <tr>\n",
       "      <th>3</th>\n",
       "      <td>Data Analyst</td>\n",
       "      <td>Senior</td>\n",
       "      <td>111922.63</td>\n",
       "      <td>3</td>\n",
       "      <td>56.0</td>\n",
       "    </tr>\n",
       "    <tr>\n",
       "      <th>1</th>\n",
       "      <td>Data Analyst</td>\n",
       "      <td>Executive</td>\n",
       "      <td>120000.00</td>\n",
       "      <td>4</td>\n",
       "      <td>7.0</td>\n",
       "    </tr>\n",
       "    <tr>\n",
       "      <th>4</th>\n",
       "      <td>Data Engineer</td>\n",
       "      <td>Entry</td>\n",
       "      <td>58933.50</td>\n",
       "      <td>1</td>\n",
       "      <td>0.0</td>\n",
       "    </tr>\n",
       "    <tr>\n",
       "      <th>6</th>\n",
       "      <td>Data Engineer</td>\n",
       "      <td>Mid</td>\n",
       "      <td>88250.84</td>\n",
       "      <td>2</td>\n",
       "      <td>50.0</td>\n",
       "    </tr>\n",
       "    <tr>\n",
       "      <th>7</th>\n",
       "      <td>Data Engineer</td>\n",
       "      <td>Senior</td>\n",
       "      <td>137035.84</td>\n",
       "      <td>3</td>\n",
       "      <td>55.0</td>\n",
       "    </tr>\n",
       "    <tr>\n",
       "      <th>5</th>\n",
       "      <td>Data Engineer</td>\n",
       "      <td>Executive</td>\n",
       "      <td>245500.00</td>\n",
       "      <td>4</td>\n",
       "      <td>79.0</td>\n",
       "    </tr>\n",
       "    <tr>\n",
       "      <th>8</th>\n",
       "      <td>Data Scientist</td>\n",
       "      <td>Entry</td>\n",
       "      <td>54780.55</td>\n",
       "      <td>1</td>\n",
       "      <td>0.0</td>\n",
       "    </tr>\n",
       "    <tr>\n",
       "      <th>9</th>\n",
       "      <td>Data Scientist</td>\n",
       "      <td>Mid</td>\n",
       "      <td>81734.71</td>\n",
       "      <td>2</td>\n",
       "      <td>49.0</td>\n",
       "    </tr>\n",
       "    <tr>\n",
       "      <th>10</th>\n",
       "      <td>Data Scientist</td>\n",
       "      <td>Senior</td>\n",
       "      <td>152971.02</td>\n",
       "      <td>3</td>\n",
       "      <td>87.0</td>\n",
       "    </tr>\n",
       "  </tbody>\n",
       "</table>\n",
       "</div>"
      ],
      "text/plain": [
       "         job_title experience_level  salary_in_usd  numeric_exp  \\\n",
       "0     Data Analyst            Entry       57924.91            1   \n",
       "2     Data Analyst              Mid       71699.21            2   \n",
       "3     Data Analyst           Senior      111922.63            3   \n",
       "1     Data Analyst        Executive      120000.00            4   \n",
       "4    Data Engineer            Entry       58933.50            1   \n",
       "6    Data Engineer              Mid       88250.84            2   \n",
       "7    Data Engineer           Senior      137035.84            3   \n",
       "5    Data Engineer        Executive      245500.00            4   \n",
       "8   Data Scientist            Entry       54780.55            1   \n",
       "9   Data Scientist              Mid       81734.71            2   \n",
       "10  Data Scientist           Senior      152971.02            3   \n",
       "\n",
       "    percent_increase  \n",
       "0                0.0  \n",
       "2               24.0  \n",
       "3               56.0  \n",
       "1                7.0  \n",
       "4                0.0  \n",
       "6               50.0  \n",
       "7               55.0  \n",
       "5               79.0  \n",
       "8                0.0  \n",
       "9               49.0  \n",
       "10              87.0  "
      ]
     },
     "execution_count": 35,
     "metadata": {},
     "output_type": "execute_result"
    }
   ],
   "source": [
    "## Making a new column to demonstrate the percent increase of pay between experience levels for each position\n",
    "\n",
    "exp_pay[\"percent_increase\"] = round(exp_pay.sort_values(\"numeric_exp\").groupby(\"job_title\")[\"salary_in_usd\"].pct_change(),2) * 100\n",
    "\n",
    "exp_pay.sort_values([\"job_title\", \"numeric_exp\"])\n",
    "\n",
    "## Reorganizing table \n",
    "exp_pay[\"percent_increase\"] = exp_pay[\"percent_increase\"].fillna(0)\n",
    "\n",
    "exp_pay.sort_values([\"job_title\", \"numeric_exp\"])"
   ]
  },
  {
   "cell_type": "code",
   "execution_count": 36,
   "id": "401e8a81",
   "metadata": {
    "execution": {
     "iopub.execute_input": "2022-08-13T07:53:07.736604Z",
     "iopub.status.busy": "2022-08-13T07:53:07.735360Z",
     "iopub.status.idle": "2022-08-13T07:53:08.105259Z",
     "shell.execute_reply": "2022-08-13T07:53:08.104038Z"
    },
    "papermill": {
     "duration": 0.395839,
     "end_time": "2022-08-13T07:53:08.108056",
     "exception": false,
     "start_time": "2022-08-13T07:53:07.712217",
     "status": "completed"
    },
    "tags": []
   },
   "outputs": [
    {
     "data": {
      "image/png": "[encoded data removed]",
      "text/plain": [
       "<Figure size 478.975x360 with 1 Axes>"
      ]
     },
     "metadata": {},
     "output_type": "display_data"
    }
   ],
   "source": [
    "## Percent Increase in Salary as experience level increases \n",
    "\n",
    "sns.set_style(\"whitegrid\")\n",
    "sns.set_palette([\"Blue\", \"Red\", \"Purple\"])\n",
    "\n",
    "order = [\"Entry\", \"Mid\", \"Senior\", \"Executive\"] ## Defining order of experience level in sort\n",
    "\n",
    "g4 = sns.catplot(x=\"numeric_exp\", y=\"percent_increase\", hue=\"job_title\", data=exp_pay, col_order=order, kind=\"bar\")\n",
    "\n",
    "g4.set(xlabel=\"Experience Level\", ylabel=\"Salary Percent (%) Increase\")\n",
    "g4.set_xticklabels([\"Entry\", \"Mid\", \"Senior\", \"Executive\"]) ## Relabeling ticks to express respective experience level in the plot\n",
    "\n",
    "plt.show()"
   ]
  },
  {
   "cell_type": "markdown",
   "id": "10332441",
   "metadata": {
    "papermill": {
     "duration": 0.021037,
     "end_time": "2022-08-13T07:53:08.150564",
     "exception": false,
     "start_time": "2022-08-13T07:53:08.129527",
     "status": "completed"
    },
    "tags": []
   },
   "source": [
    "The table and plot reveal that while all the jobs receive significant increases in salary from Entry to Mid and Mid to Senior, the definitive highest increase comes from Senior Data Scientists receiving an extraordinary 87% increase in salary. Not to say the others are bad by any means, from Entry to Mid Data Scientists and Data Engineers have about a 50% increase in salary and that honestly sounds fantastic. Meanwhile, Data Scientists do not receive a large bump from Entry to Mid but its Mid to Senior pay raise is a significant 56% increase. Cumulatively it seems like Data Engineers obtain the most increase in salaries but I'm curious to know if it is because Data Scientists turn over to more managereal positions in the executive leaving skewing the data to show a complete drop off of the position. "
   ]
  },
  {
   "cell_type": "markdown",
   "id": "38546085",
   "metadata": {
    "papermill": {
     "duration": 0.02087,
     "end_time": "2022-08-13T07:53:08.193358",
     "exception": false,
     "start_time": "2022-08-13T07:53:08.172488",
     "status": "completed"
    },
    "tags": []
   },
   "source": [
    "# Conclusions"
   ]
  },
  {
   "cell_type": "markdown",
   "id": "d1d76bb3",
   "metadata": {
    "papermill": {
     "duration": 0.02166,
     "end_time": "2022-08-13T07:53:08.236037",
     "exception": false,
     "start_time": "2022-08-13T07:53:08.214377",
     "status": "completed"
    },
    "tags": []
   },
   "source": [
    "We've explored different facets of the Data Science domain, from the highest salaries of entry data jobs, the variance of pay between different remote offerings, the popularity of different jobs and how pay increases as experience increases. \n",
    "\n",
    "From the data, it gives me the impression Machine Learning positions are some of the most ludicrous positions for Entry Level (though how demanding its tech stack might be, is a separate question), and Data Analysts look to have a really reasonable average pay as an Entry level position.\n",
    "\n",
    "Remote positions look to be paid more that hybrid or on-site, however, with more data and resources I would be interested to know if a remote position is more of a benefit for a position with more seniority or a more experienced analyst. \n",
    "\n",
    "Across different seniority positions, it seems Data Analyst, Engineer and Scientist ppositions are the more popular, like the previous question, with more data I'd be curious to know if these positions are just more popular because it is an umbrella term for their respective roles or if in fact they are more popular than all the preceeding positions.\n",
    "\n",
    "Lastly, from the most popular positions I postulated with the available data and analysis, it looks like Data Engineers and Scientists enjoy a higher increase of pay across each experience level, while it seems Data Analysts experience their highest pay increase by reaching Senior Level, despite a much smaller bump when they reach Mid Level. All things considering, each f these positions have a reasonable and even might I say incredible salary track.\n",
    "\n",
    "Well, that is all for this analysis, thank you for taking the time to go through this with me. As my first python project I took the liberty to experiment and showcase different methods of analysing the data, despite a lot of it that could have been analyzed with a similar repeated method. Switching up the method and packages used, allowed me to get a better understanding of my available tools and even lerned some new ones along the way, making me feel a more confident analyst as a result."
   ]
  }
 ],
 "metadata": {
  "kernelspec": {
   "display_name": "Python 3",
   "language": "python",
   "name": "python3"
  },
  "language_info": {
   "codemirror_mode": {
    "name": "ipython",
    "version": 3
   },
   "file_extension": ".py",
   "mimetype": "text/x-python",
   "name": "python",
   "nbconvert_exporter": "python",
   "pygments_lexer": "ipython3",
   "version": "3.7.12"
  },
  "papermill": {
   "default_parameters": {},
   "duration": 24.859403,
   "end_time": "2022-08-13T07:53:09.078523",
   "environment_variables": {},
   "exception": null,
   "input_path": "__notebook__.ipynb",
   "output_path": "__notebook__.ipynb",
   "parameters": {},
   "start_time": "2022-08-13T07:52:44.219120",
   "version": "2.3.4"
  }
 },
 "nbformat": 4,
 "nbformat_minor": 5
}
